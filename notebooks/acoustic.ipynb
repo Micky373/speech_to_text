{
 "cells": [
  {
   "cell_type": "markdown",
   "metadata": {},
   "source": [
    "## Acoustic Model"
   ]
  },
  {
   "cell_type": "code",
   "execution_count": 29,
   "metadata": {},
   "outputs": [],
   "source": [
    "import torch\n",
    "import torch.functional as F"
   ]
  },
  {
   "cell_type": "code",
   "execution_count": 30,
   "metadata": {},
   "outputs": [
    {
     "name": "stdout",
     "output_type": "stream",
     "text": [
      "The model:\n",
      "TinyModel(\n",
      "  (linear1): Linear(in_features=100, out_features=200, bias=True)\n",
      "  (activation): ReLU()\n",
      "  (linear2): Linear(in_features=200, out_features=10, bias=True)\n",
      "  (softmax): Softmax(dim=None)\n",
      ")\n",
      "\n",
      "\n",
      "Just one layer:\n",
      "Linear(in_features=200, out_features=10, bias=True)\n",
      "\n",
      "\n",
      "Model params:\n",
      "Parameter containing:\n",
      "tensor([[-0.0771,  0.0061, -0.0688,  ..., -0.0180, -0.0530, -0.0145],\n",
      "        [ 0.0797, -0.0062, -0.0446,  ...,  0.0003, -0.0402, -0.0186],\n",
      "        [ 0.0258,  0.0019, -0.0545,  ..., -0.0303,  0.0249, -0.0859],\n",
      "        ...,\n",
      "        [-0.0183, -0.0084, -0.0307,  ...,  0.0221,  0.0567,  0.0248],\n",
      "        [ 0.0566, -0.0782, -0.0880,  ...,  0.0740,  0.0555,  0.0436],\n",
      "        [ 0.0090,  0.0176, -0.0463,  ..., -0.0351,  0.0606, -0.0272]],\n",
      "       requires_grad=True)\n",
      "Parameter containing:\n",
      "tensor([ 0.0888, -0.0859,  0.0678, -0.0913,  0.0073, -0.0020,  0.0551,  0.0239,\n",
      "        -0.0418,  0.0730,  0.0221, -0.0748,  0.0112, -0.0206, -0.0157,  0.0174,\n",
      "        -0.0301,  0.0595, -0.0189, -0.0195, -0.0625,  0.0288,  0.0456, -0.0836,\n",
      "         0.0034, -0.0042, -0.0430, -0.0899, -0.0542,  0.0434, -0.0362, -0.0618,\n",
      "         0.0253, -0.0036, -0.0224, -0.0123,  0.0186,  0.0207,  0.0346,  0.0234,\n",
      "         0.0632,  0.0883, -0.0159,  0.0208,  0.0127, -0.0750, -0.0088,  0.0550,\n",
      "        -0.0073, -0.0339,  0.0645,  0.0137,  0.0811, -0.0488,  0.0143, -0.0798,\n",
      "         0.0550,  0.0886, -0.0269,  0.0290, -0.0176, -0.0285, -0.0820,  0.0013,\n",
      "        -0.0638, -0.0610,  0.0096, -0.0101,  0.0084, -0.0674,  0.0601, -0.0157,\n",
      "         0.0792,  0.0732, -0.0944, -0.0606,  0.0113,  0.0517, -0.0081,  0.0943,\n",
      "        -0.0892,  0.0265, -0.0994, -0.0255, -0.0369, -0.0988,  0.0993,  0.0358,\n",
      "        -0.0695, -0.0941, -0.0084, -0.0192, -0.0549, -0.0215, -0.0490, -0.0308,\n",
      "         0.0987, -0.0937, -0.0912, -0.0282, -0.0897,  0.0036, -0.0092,  0.0453,\n",
      "         0.0330,  0.0155, -0.0490,  0.0414, -0.0056,  0.0882, -0.0598, -0.0340,\n",
      "         0.0876, -0.0375, -0.0427,  0.0927,  0.0889,  0.0131, -0.0513,  0.0340,\n",
      "        -0.0145, -0.0783,  0.0801, -0.0791,  0.0860, -0.0937, -0.0340, -0.0319,\n",
      "         0.0679, -0.0983,  0.0858, -0.0656,  0.0789, -0.0515, -0.0753, -0.0569,\n",
      "         0.0743,  0.0384,  0.0367,  0.0447, -0.0308, -0.0655, -0.0225,  0.0847,\n",
      "        -0.0756,  0.0954, -0.0100, -0.0636, -0.0394,  0.0917, -0.0331,  0.0271,\n",
      "         0.0146, -0.0810, -0.0464,  0.0967, -0.0564, -0.0410, -0.0519, -0.0570,\n",
      "         0.0795,  0.0591,  0.0770,  0.0854, -0.0750, -0.0181, -0.0500, -0.0308,\n",
      "        -0.0017,  0.0039, -0.0365, -0.0236,  0.0570, -0.0955,  0.0164, -0.0332,\n",
      "         0.0583, -0.0925,  0.0030,  0.0237, -0.0882,  0.0841, -0.0663,  0.0625,\n",
      "        -0.0223,  0.0773,  0.0228, -0.0883,  0.0184, -0.0957, -0.0703,  0.0434,\n",
      "        -0.0772, -0.0036,  0.0866, -0.0760,  0.0196, -0.0543,  0.0819, -0.0833],\n",
      "       requires_grad=True)\n",
      "Parameter containing:\n",
      "tensor([[-0.0266,  0.0346, -0.0578,  ..., -0.0183,  0.0262,  0.0057],\n",
      "        [ 0.0017,  0.0499, -0.0108,  ..., -0.0638,  0.0689,  0.0349],\n",
      "        [-0.0103, -0.0302,  0.0359,  ...,  0.0513,  0.0528,  0.0550],\n",
      "        ...,\n",
      "        [ 0.0311, -0.0647,  0.0401,  ..., -0.0140, -0.0205, -0.0363],\n",
      "        [ 0.0490,  0.0293, -0.0191,  ...,  0.0296,  0.0134, -0.0608],\n",
      "        [-0.0216, -0.0042, -0.0083,  ..., -0.0349,  0.0116, -0.0545]],\n",
      "       requires_grad=True)\n",
      "Parameter containing:\n",
      "tensor([-0.0394,  0.0490, -0.0516, -0.0429,  0.0680,  0.0257, -0.0204,  0.0131,\n",
      "        -0.0090,  0.0095], requires_grad=True)\n",
      "\n",
      "\n",
      "Layer params:\n",
      "Parameter containing:\n",
      "tensor([[-0.0266,  0.0346, -0.0578,  ..., -0.0183,  0.0262,  0.0057],\n",
      "        [ 0.0017,  0.0499, -0.0108,  ..., -0.0638,  0.0689,  0.0349],\n",
      "        [-0.0103, -0.0302,  0.0359,  ...,  0.0513,  0.0528,  0.0550],\n",
      "        ...,\n",
      "        [ 0.0311, -0.0647,  0.0401,  ..., -0.0140, -0.0205, -0.0363],\n",
      "        [ 0.0490,  0.0293, -0.0191,  ...,  0.0296,  0.0134, -0.0608],\n",
      "        [-0.0216, -0.0042, -0.0083,  ..., -0.0349,  0.0116, -0.0545]],\n",
      "       requires_grad=True)\n",
      "Parameter containing:\n",
      "tensor([-0.0394,  0.0490, -0.0516, -0.0429,  0.0680,  0.0257, -0.0204,  0.0131,\n",
      "        -0.0090,  0.0095], requires_grad=True)\n"
     ]
    }
   ],
   "source": [
    "tinymodel = TinyModel()\n",
    "\n",
    "print('The model:')\n",
    "print(tinymodel)\n",
    "\n",
    "print('\\n\\nJust one layer:')\n",
    "print(tinymodel.linear2)\n",
    "\n",
    "print('\\n\\nModel params:')\n",
    "for param in tinymodel.parameters():\n",
    "    print(param)\n",
    "\n",
    "print('\\n\\nLayer params:')\n",
    "for param in tinymodel.linear2.parameters():\n",
    "    print(param)"
   ]
  },
  {
   "cell_type": "code",
   "execution_count": 31,
   "metadata": {},
   "outputs": [
    {
     "name": "stdout",
     "output_type": "stream",
     "text": [
      "Input:\n",
      "tensor([[0.1350, 0.3273, 0.7796]])\n",
      "\n",
      "\n",
      "Weight and Bias parameters:\n",
      "Parameter containing:\n",
      "tensor([[ 0.0670, -0.3657,  0.5161],\n",
      "        [-0.4756,  0.0138,  0.5107]], requires_grad=True)\n",
      "Parameter containing:\n",
      "tensor([-0.1759,  0.5461], requires_grad=True)\n",
      "\n",
      "\n",
      "Output:\n",
      "tensor([[0.1158, 0.8845]], grad_fn=<AddmmBackward0>)\n"
     ]
    }
   ],
   "source": [
    "lin = torch.nn.Linear(3, 2)\n",
    "x = torch.rand(1, 3)\n",
    "print('Input:')\n",
    "print(x)\n",
    "\n",
    "print('\\n\\nWeight and Bias parameters:')\n",
    "for param in lin.parameters():\n",
    "    print(param)\n",
    "\n",
    "y = lin(x)\n",
    "print('\\n\\nOutput:')\n",
    "print(y)"
   ]
  },
  {
   "cell_type": "code",
   "execution_count": 32,
   "metadata": {},
   "outputs": [
    {
     "name": "stdout",
     "output_type": "stream",
     "text": [
      "tensor([[[0.8935, 0.7953, 0.1451, 0.9670, 0.3374, 0.0519],\n",
      "         [0.4609, 0.9474, 0.4939, 0.2218, 0.0347, 0.7199],\n",
      "         [0.3204, 0.0617, 0.1562, 0.4121, 0.0531, 0.7541],\n",
      "         [0.5746, 0.1838, 0.2302, 0.4575, 0.8068, 0.6952],\n",
      "         [0.8752, 0.6129, 0.3577, 0.7702, 0.5971, 0.9263],\n",
      "         [0.4368, 0.0402, 0.7675, 0.8193, 0.3880, 0.4241]]])\n",
      "tensor([[[0.9474, 0.9670],\n",
      "         [0.8752, 0.9263]]])\n"
     ]
    }
   ],
   "source": [
    "my_tensor = torch.rand(1, 6, 6)\n",
    "print(my_tensor)\n",
    "\n",
    "maxpool_layer = torch.nn.MaxPool2d(3)\n",
    "print(maxpool_layer(my_tensor))"
   ]
  },
  {
   "cell_type": "code",
   "execution_count": 33,
   "metadata": {},
   "outputs": [
    {
     "name": "stdout",
     "output_type": "stream",
     "text": [
      "tensor([[[22.2920,  8.8247, 12.4303, 15.9764],\n",
      "         [ 9.5832, 13.0983,  9.0266, 10.0989],\n",
      "         [20.1638, 20.4009, 17.2764,  7.0051],\n",
      "         [18.2400,  6.0084, 12.7183, 24.6000]]])\n",
      "tensor(14.2340)\n",
      "tensor([[[ 1.4911, -1.2185, -0.4931,  0.2204],\n",
      "         [-0.5517,  1.6811, -0.9052, -0.2241],\n",
      "         [ 0.7244,  0.7679,  0.1952, -1.6875],\n",
      "         [ 0.4154, -1.3683, -0.3898,  1.3428]]],\n",
      "       grad_fn=<NativeBatchNormBackward0>)\n",
      "tensor(-1.4901e-08, grad_fn=<MeanBackward0>)\n"
     ]
    }
   ],
   "source": [
    "my_tensor = torch.rand(1, 4, 4) * 20 + 5\n",
    "print(my_tensor)\n",
    "\n",
    "print(my_tensor.mean())\n",
    "\n",
    "norm_layer = torch.nn.BatchNorm1d(4)\n",
    "normed_tensor = norm_layer(my_tensor)\n",
    "print(normed_tensor)\n",
    "\n",
    "print(normed_tensor.mean())"
   ]
  },
  {
   "cell_type": "code",
   "execution_count": 34,
   "metadata": {},
   "outputs": [
    {
     "name": "stdout",
     "output_type": "stream",
     "text": [
      "tensor([[[0.2348, 0.2091, 1.0445, 0.7846],\n",
      "         [0.0000, 0.7000, 0.0000, 1.0638],\n",
      "         [0.4248, 1.4691, 1.6448, 0.0000],\n",
      "         [1.0528, 0.8208, 1.6170, 1.4602]]])\n",
      "tensor([[[0.2348, 0.2091, 1.0445, 0.0000],\n",
      "         [0.2724, 0.0000, 0.0000, 1.0638],\n",
      "         [0.4248, 1.4691, 0.0000, 0.0000],\n",
      "         [1.0528, 0.0000, 1.6170, 0.0000]]])\n"
     ]
    }
   ],
   "source": [
    "my_tensor = torch.rand(1, 4, 4)\n",
    "\n",
    "dropout = torch.nn.Dropout(p=0.4)\n",
    "print(dropout(my_tensor))\n",
    "print(dropout(my_tensor))"
   ]
  },
  {
   "cell_type": "code",
   "execution_count": null,
   "metadata": {},
   "outputs": [],
   "source": []
  }
 ],
 "metadata": {
  "interpreter": {
   "hash": "b302cdd1e032ee910f5c889c3360c28564c92ad4f326fc3102e39fbe47faee66"
  },
  "kernelspec": {
   "display_name": "Python 3.9.7 ('base')",
   "language": "python",
   "name": "python3"
  },
  "language_info": {
   "codemirror_mode": {
    "name": "ipython",
    "version": 3
   },
   "file_extension": ".py",
   "mimetype": "text/x-python",
   "name": "python",
   "nbconvert_exporter": "python",
   "pygments_lexer": "ipython3",
   "version": "3.9.7"
  },
  "orig_nbformat": 4
 },
 "nbformat": 4,
 "nbformat_minor": 2
}
