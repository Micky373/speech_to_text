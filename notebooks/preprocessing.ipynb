{
 "cells": [
  {
   "cell_type": "markdown",
   "metadata": {},
   "source": [
    "## Data Preprocessing"
   ]
  },
  {
   "cell_type": "code",
   "execution_count": null,
   "metadata": {},
   "outputs": [],
   "source": [
    "# loading libraries\n",
    "import librosa   #for audio processing\n",
    "import librosa.display\n",
    "import wave\n",
    "import IPython.display as ipd\n",
    "import matplotlib.pyplot as plt\n",
    "import numpy as np\n",
    "import pandas as pd\n",
    "import os\n",
    "import math\n",
    "import matplotlib.pylab as plt\n",
    "import seaborn as sns\n",
    "import sys\n",
    "from sklearn.pipeline import Pipeline\n",
    "from sklearn.preprocessing import FunctionTransformer\n",
    "import json\n",
    "from scipy.io import wavfile #for audio processing\n",
    "import warnings\n",
    "warnings.filterwarnings(\"ignore\")"
   ]
  },
  {
   "cell_type": "code",
   "execution_count": null,
   "metadata": {},
   "outputs": [],
   "source": [
    "# loading scripts\n",
    "sys.path.insert(1, '../scripts')\n",
    "sys.path.append(\"..\")\n",
    "sys.path.append(\".\")\n",
    "\n",
    "from meta_cleaner import MetaCleaner\n",
    "from audio_cleaner import AudioCleaner\n",
    "from data_viz import Data_Viz\n",
    "\n",
    "MC = MetaCleaner(\"../logs/preprocessing_notebook.log\")\n",
    "AC = AudioCleaner(\"../logs/preprocessing_notebook.log\")\n",
    "DV = Data_Viz()"
   ]
  },
  {
   "cell_type": "markdown",
   "metadata": {},
   "source": [
    "## Processing Single Audio File"
   ]
  },
  {
   "cell_type": "code",
   "execution_count": null,
   "metadata": {},
   "outputs": [],
   "source": [
    "# load sample audio\n",
    "\n",
    "sam, rat = AC.load_audio(\"../data/train/wav/tr_101_tr02001.wav\")\n",
    "audio = [sam, rat]\n",
    "print(\"Sample: \", audio[0])\n",
    "print(\"Rate: \", audio[1])"
   ]
  },
  {
   "cell_type": "code",
   "execution_count": null,
   "metadata": {},
   "outputs": [],
   "source": [
    "# changing channel\n",
    "\n",
    "print(\"Before: \", audio[0].shape)\n",
    "output = AC.change_to_stereo(audio)\n",
    "print(\"After: \", output[0].shape)"
   ]
  },
  {
   "cell_type": "code",
   "execution_count": null,
   "metadata": {},
   "outputs": [],
   "source": [
    "# changing sampling rate\n",
    "\n",
    "print(\"Before: \", output[1])\n",
    "output2 = AC.change_rate(output, 44100)\n",
    "print(\"After: \", output2[1])\n",
    "    "
   ]
  },
  {
   "cell_type": "code",
   "execution_count": null,
   "metadata": {},
   "outputs": [],
   "source": [
    "# changing duration \n",
    "\n",
    "print(\"Before: \", librosa.get_duration(y=output2[0], sr=output2[1]))\n",
    "output3 = AC.change_duration(output2, 8100)\n",
    "print(\"After: \", librosa.get_duration(y=output3[0], sr=output3[1]))\n",
    "    "
   ]
  },
  {
   "cell_type": "code",
   "execution_count": null,
   "metadata": {},
   "outputs": [],
   "source": [
    "# augumentation\n",
    "\n",
    "output4 = AC.time_shift(output3)"
   ]
  },
  {
   "cell_type": "markdown",
   "metadata": {},
   "source": [
    "## Processing in batch"
   ]
  },
  {
   "cell_type": "markdown",
   "metadata": {},
   "source": [
    "### Metadata preparation"
   ]
  },
  {
   "cell_type": "code",
   "execution_count": null,
   "metadata": {},
   "outputs": [],
   "source": [
    "# creating meta data\n",
    "\n",
    "path = \"../data/train\"\n",
    "output = \"../data/train_new\"\n",
    "\n",
    "meta_data = MC.generate_metadata(path, output)\n",
    "meta_data.head()"
   ]
  },
  {
   "cell_type": "code",
   "execution_count": null,
   "metadata": {},
   "outputs": [],
   "source": [
    "# adding duration column\n",
    "\n",
    "MC.add_duration(meta_data)\n",
    "selection = meta_data[meta_data[\"Duration\"] != 400]\n",
    "selection.head()"
   ]
  },
  {
   "cell_type": "code",
   "execution_count": null,
   "metadata": {},
   "outputs": [],
   "source": [
    "# Data processing pipeline\n",
    "\n",
    "def build_pipe(ACl, param):\n",
    "        \"\"\"\n",
    "        takes categorical column names: cat_list\n",
    "        returns a pipe that process data for modeling\n",
    "        \"\"\"\n",
    "        pipe = Pipeline(steps = [\n",
    "                                (\"make stereo\", FunctionTransformer(ACl.change_to_stereo)),\n",
    "                                (\"change rate\", FunctionTransformer(ACl.change_rate, kw_args={\"sr\":param[0]})), \n",
    "                                (\"change length\", FunctionTransformer(ACl.change_duration, kw_args={\"max_ms\":param[1]})),\n",
    "                                (\"augument\", FunctionTransformer(ACl.time_shift))\n",
    "                                ])\n",
    "        return pipe"
   ]
  },
  {
   "cell_type": "code",
   "execution_count": null,
   "metadata": {},
   "outputs": [],
   "source": [
    "pipe = build_pipe(AC, [44100, 8100])\n",
    "def batch_iterator(meta, pipe, ACl):\n",
    "    \n",
    "    for i in range(len(meta)):\n",
    "        try:\n",
    "            sam, rat = ACl.load_audio(meta.loc[i, \"Feature\"])\n",
    "            audio = [sam, rat]\n",
    "        except:\n",
    "            continue\n",
    "        \n",
    "        p_audio = pipe.fit_transform(audio)\n",
    "        ACl.save_audio(p_audio, meta.loc[i, \"Output\"])\n",
    "        \n",
    "    "
   ]
  },
  {
   "cell_type": "markdown",
   "metadata": {},
   "source": [
    "## Final check"
   ]
  },
  {
   "cell_type": "code",
   "execution_count": null,
   "metadata": {},
   "outputs": [],
   "source": [
    "# making sure everything is right\n",
    "data =  wave.open('../data/train_new/tr_10_tr01010.wav')\n",
    "print(\"the parameters are: \", data.getparams())\n",
    "meta_data= MC.add_duration(meta_data, output= True)\n",
    "meta_data= MC.channel_count(meta_data, output= True)\n",
    "selection = meta_data[meta_data[\"Duration\"] != 400]\n",
    "selection.head()"
   ]
  },
  {
   "cell_type": "code",
   "execution_count": null,
   "metadata": {},
   "outputs": [],
   "source": [
    "samples, sample_rate = librosa.load('../data/train_new/tr_10_tr01010.wav', sr=None)\n",
    "DV.plot_spec(data=samples,sr=sample_rate)"
   ]
  },
  {
   "cell_type": "markdown",
   "metadata": {},
   "source": [
    "## Data Splitting"
   ]
  },
  {
   "cell_type": "code",
   "execution_count": null,
   "metadata": {},
   "outputs": [],
   "source": [
    "# shuffling and splitting data\n",
    "\n",
    "dfs = MC.split(meta_data, 80, 2)\n",
    "train = dfs[0]\n",
    "test = dfs[1]\n",
    "print(train.shape)\n",
    "print(test.shape)"
   ]
  },
  {
   "cell_type": "markdown",
   "metadata": {},
   "source": [
    "### saving processed meta_data"
   ]
  },
  {
   "cell_type": "code",
   "execution_count": null,
   "metadata": {},
   "outputs": [],
   "source": [
    "# saving data as csv\n",
    "\n",
    "DC.meta_saver(train, \"../data/train_meta.csv\", \"csv\")\n",
    "DC.meta_saver(test, \"../data/test_meta.csv\", \"csv\")"
   ]
  },
  {
   "cell_type": "code",
   "execution_count": null,
   "metadata": {},
   "outputs": [],
   "source": [
    "# loading and checking json data\n",
    "\n",
    "test_df = DC.meta_loader(\"../data/train_meta.csv\", \"csv\")\n",
    "test_df.head()"
   ]
  },
  {
   "cell_type": "code",
   "execution_count": null,
   "metadata": {},
   "outputs": [],
   "source": []
  }
 ],
 "metadata": {
  "interpreter": {
   "hash": "2b997b5b8794c030e25a28be498e8226ee8897df85ede9190db777bdc9cc75be"
  },
  "kernelspec": {
   "display_name": "Python 3.9.7 ('base')",
   "language": "python",
   "name": "python3"
  },
  "language_info": {
   "codemirror_mode": {
    "name": "ipython",
    "version": 3
   },
   "file_extension": ".py",
   "mimetype": "text/x-python",
   "name": "python",
   "nbconvert_exporter": "python",
   "pygments_lexer": "ipython3",
   "version": "3.9.7"
  },
  "orig_nbformat": 4
 },
 "nbformat": 4,
 "nbformat_minor": 2
}
