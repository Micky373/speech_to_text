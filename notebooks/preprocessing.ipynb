{
 "cells": [
  {
   "cell_type": "markdown",
   "metadata": {},
   "source": [
    "## Data Preprocessing"
   ]
  },
  {
   "cell_type": "code",
   "execution_count": 2,
   "metadata": {},
   "outputs": [],
   "source": [
    "# loading libraries\n",
    "import librosa   #for audio processing\n",
    "import librosa.display\n",
    "import wave\n",
    "import IPython.display as ipd\n",
    "import matplotlib.pyplot as plt\n",
    "import numpy as np\n",
    "import pandas as pd\n",
    "import matplotlib.pylab as plt\n",
    "import seaborn as sns\n",
    "import sys\n",
    "from scipy.io import wavfile #for audio processing\n",
    "import warnings\n",
    "warnings.filterwarnings(\"ignore\")"
   ]
  },
  {
   "cell_type": "code",
   "execution_count": 3,
   "metadata": {},
   "outputs": [],
   "source": [
    "# loading scripts\n",
    "sys.path.insert(1, '../scripts')\n",
    "sys.path.append(\"..\")\n",
    "sys.path.append(\".\")\n",
    "\n",
    "from data_cleaning import DataCleaner\n",
    "from data_viz import Data_Viz\n",
    "\n",
    "DC = DataCleaner(\"../logs/preprocessing_notebook.log\")\n",
    "DV = Data_Viz()"
   ]
  },
  {
   "cell_type": "markdown",
   "metadata": {},
   "source": [
    "## Load metadata"
   ]
  },
  {
   "cell_type": "code",
   "execution_count": 4,
   "metadata": {},
   "outputs": [
    {
     "data": {
      "text/html": [
       "<div>\n",
       "<style scoped>\n",
       "    .dataframe tbody tr th:only-of-type {\n",
       "        vertical-align: middle;\n",
       "    }\n",
       "\n",
       "    .dataframe tbody tr th {\n",
       "        vertical-align: top;\n",
       "    }\n",
       "\n",
       "    .dataframe thead th {\n",
       "        text-align: right;\n",
       "    }\n",
       "</style>\n",
       "<table border=\"1\" class=\"dataframe\">\n",
       "  <thead>\n",
       "    <tr style=\"text-align: right;\">\n",
       "      <th></th>\n",
       "      <th>Target</th>\n",
       "      <th>Feature</th>\n",
       "      <th>Output</th>\n",
       "    </tr>\n",
       "  </thead>\n",
       "  <tbody>\n",
       "    <tr>\n",
       "      <th>0</th>\n",
       "      <td>ያንደኛ ደረጃ ትምህርታቸው ን ጐንደር ተ ም ረዋል</td>\n",
       "      <td>../data/train/wav/tr_1_tr01001.wav</td>\n",
       "      <td>../data/train_new/tr_1_tr01001.wav</td>\n",
       "    </tr>\n",
       "    <tr>\n",
       "      <th>1</th>\n",
       "      <td>የተ ለቀቁት ምርኮኞች በ አካባቢያቸው ሰላማዊ ኑሮ እንዲ ኖሩ የ ትራንስፖ...</td>\n",
       "      <td>../data/train/wav/tr_2_tr01002.wav</td>\n",
       "      <td>../data/train_new/tr_2_tr01002.wav</td>\n",
       "    </tr>\n",
       "    <tr>\n",
       "      <th>2</th>\n",
       "      <td>በ አዲስ አበባው ስታዲየም በ ተካሄዱ ት ሁለት ግጥሚያ ዎች በ መጀመሪያ ...</td>\n",
       "      <td>../data/train/wav/tr_3_tr01003.wav</td>\n",
       "      <td>../data/train_new/tr_3_tr01003.wav</td>\n",
       "    </tr>\n",
       "    <tr>\n",
       "      <th>3</th>\n",
       "      <td>ወሬው ን ወሬ ያደረጉ ምስጢረ ኞች ናቸው</td>\n",
       "      <td>../data/train/wav/tr_4_tr01004.wav</td>\n",
       "      <td>../data/train_new/tr_4_tr01004.wav</td>\n",
       "    </tr>\n",
       "    <tr>\n",
       "      <th>4</th>\n",
       "      <td>ኢትዮጵያዊ ቷ በ ብሄራዊ ባህላዊ አለባበስ ከ አለም አንደኝነት ን ተቀዳጀ ች</td>\n",
       "      <td>../data/train/wav/tr_5_tr01005.wav</td>\n",
       "      <td>../data/train_new/tr_5_tr01005.wav</td>\n",
       "    </tr>\n",
       "  </tbody>\n",
       "</table>\n",
       "</div>"
      ],
      "text/plain": [
       "                                              Target  \\\n",
       "0                    ያንደኛ ደረጃ ትምህርታቸው ን ጐንደር ተ ም ረዋል   \n",
       "1  የተ ለቀቁት ምርኮኞች በ አካባቢያቸው ሰላማዊ ኑሮ እንዲ ኖሩ የ ትራንስፖ...   \n",
       "2  በ አዲስ አበባው ስታዲየም በ ተካሄዱ ት ሁለት ግጥሚያ ዎች በ መጀመሪያ ...   \n",
       "3                          ወሬው ን ወሬ ያደረጉ ምስጢረ ኞች ናቸው   \n",
       "4   ኢትዮጵያዊ ቷ በ ብሄራዊ ባህላዊ አለባበስ ከ አለም አንደኝነት ን ተቀዳጀ ች   \n",
       "\n",
       "                              Feature                              Output  \n",
       "0  ../data/train/wav/tr_1_tr01001.wav  ../data/train_new/tr_1_tr01001.wav  \n",
       "1  ../data/train/wav/tr_2_tr01002.wav  ../data/train_new/tr_2_tr01002.wav  \n",
       "2  ../data/train/wav/tr_3_tr01003.wav  ../data/train_new/tr_3_tr01003.wav  \n",
       "3  ../data/train/wav/tr_4_tr01004.wav  ../data/train_new/tr_4_tr01004.wav  \n",
       "4  ../data/train/wav/tr_5_tr01005.wav  ../data/train_new/tr_5_tr01005.wav  "
      ]
     },
     "execution_count": 4,
     "metadata": {},
     "output_type": "execute_result"
    }
   ],
   "source": [
    "# loading meta data\n",
    "path = \"../data/train\"\n",
    "output = \"../data/train_new\"\n",
    "\n",
    "meta_data = DC.generate_metadata(path, output)\n",
    "meta_data.head()\n"
   ]
  },
  {
   "cell_type": "code",
   "execution_count": 5,
   "metadata": {},
   "outputs": [
    {
     "data": {
      "text/html": [
       "<div>\n",
       "<style scoped>\n",
       "    .dataframe tbody tr th:only-of-type {\n",
       "        vertical-align: middle;\n",
       "    }\n",
       "\n",
       "    .dataframe tbody tr th {\n",
       "        vertical-align: top;\n",
       "    }\n",
       "\n",
       "    .dataframe thead th {\n",
       "        text-align: right;\n",
       "    }\n",
       "</style>\n",
       "<table border=\"1\" class=\"dataframe\">\n",
       "  <thead>\n",
       "    <tr style=\"text-align: right;\">\n",
       "      <th></th>\n",
       "      <th>Target</th>\n",
       "      <th>Feature</th>\n",
       "      <th>Output</th>\n",
       "      <th>Duration</th>\n",
       "    </tr>\n",
       "  </thead>\n",
       "  <tbody>\n",
       "    <tr>\n",
       "      <th>9</th>\n",
       "      <td>ግን ወደ ኋላው ላይ ኢሳያስ እንደ ልማ ዳቸው ሁሉን ም የ መልከ ፍ ዲፕሎ...</td>\n",
       "      <td>../data/train/wav/tr_10_tr01010.wav</td>\n",
       "      <td>../data/train_new/tr_10_tr01010.wav</td>\n",
       "      <td>10.368</td>\n",
       "    </tr>\n",
       "    <tr>\n",
       "      <th>99</th>\n",
       "      <td>አለቃ የጻፏቸው መጽሀፍት ውድ ና ጣፋጭ ከ መሆናቸው የተነሳ በ ህትመታቸው...</td>\n",
       "      <td>../data/train/wav/tr_100_tr01100.wav</td>\n",
       "      <td>../data/train_new/tr_100_tr01100.wav</td>\n",
       "      <td>14.592</td>\n",
       "    </tr>\n",
       "    <tr>\n",
       "      <th>100</th>\n",
       "      <td>በ ኮምፒውተር ሳይንስ ፎን ት ቴክኖሎጂ ለ ዶክትሬት ዲግሪ ጥናት እያደረጉ...</td>\n",
       "      <td>../data/train/wav/tr_101_tr02001.wav</td>\n",
       "      <td>../data/train_new/tr_101_tr02001.wav</td>\n",
       "      <td>7.936</td>\n",
       "    </tr>\n",
       "    <tr>\n",
       "      <th>101</th>\n",
       "      <td>የ ውሀው ዘርፍ ያለበት ን የ ፋይናንስ ችግር ለ መፍታት የ ውሀ ሀብት ል...</td>\n",
       "      <td>../data/train/wav/tr_102_tr02002.wav</td>\n",
       "      <td>../data/train_new/tr_102_tr02002.wav</td>\n",
       "      <td>6.528</td>\n",
       "    </tr>\n",
       "    <tr>\n",
       "      <th>102</th>\n",
       "      <td>የ መንገደኞች ማስተናገጃ ህንጻው በ ሰአት እስከ ሶስት ሺ ያህል መንገደኞ...</td>\n",
       "      <td>../data/train/wav/tr_103_tr02003.wav</td>\n",
       "      <td>../data/train_new/tr_103_tr02003.wav</td>\n",
       "      <td>6.528</td>\n",
       "    </tr>\n",
       "  </tbody>\n",
       "</table>\n",
       "</div>"
      ],
      "text/plain": [
       "                                                Target  \\\n",
       "9    ግን ወደ ኋላው ላይ ኢሳያስ እንደ ልማ ዳቸው ሁሉን ም የ መልከ ፍ ዲፕሎ...   \n",
       "99   አለቃ የጻፏቸው መጽሀፍት ውድ ና ጣፋጭ ከ መሆናቸው የተነሳ በ ህትመታቸው...   \n",
       "100  በ ኮምፒውተር ሳይንስ ፎን ት ቴክኖሎጂ ለ ዶክትሬት ዲግሪ ጥናት እያደረጉ...   \n",
       "101  የ ውሀው ዘርፍ ያለበት ን የ ፋይናንስ ችግር ለ መፍታት የ ውሀ ሀብት ል...   \n",
       "102  የ መንገደኞች ማስተናገጃ ህንጻው በ ሰአት እስከ ሶስት ሺ ያህል መንገደኞ...   \n",
       "\n",
       "                                  Feature  \\\n",
       "9     ../data/train/wav/tr_10_tr01010.wav   \n",
       "99   ../data/train/wav/tr_100_tr01100.wav   \n",
       "100  ../data/train/wav/tr_101_tr02001.wav   \n",
       "101  ../data/train/wav/tr_102_tr02002.wav   \n",
       "102  ../data/train/wav/tr_103_tr02003.wav   \n",
       "\n",
       "                                   Output  Duration  \n",
       "9     ../data/train_new/tr_10_tr01010.wav    10.368  \n",
       "99   ../data/train_new/tr_100_tr01100.wav    14.592  \n",
       "100  ../data/train_new/tr_101_tr02001.wav     7.936  \n",
       "101  ../data/train_new/tr_102_tr02002.wav     6.528  \n",
       "102  ../data/train_new/tr_103_tr02003.wav     6.528  "
      ]
     },
     "execution_count": 5,
     "metadata": {},
     "output_type": "execute_result"
    }
   ],
   "source": [
    "# adding duration column\n",
    "\n",
    "DC.add_duration(meta_data)\n",
    "selection = meta_data[meta_data[\"Duration\"] != 400]\n",
    "selection.head()"
   ]
  },
  {
   "cell_type": "markdown",
   "metadata": {},
   "source": [
    "## Spectogramm"
   ]
  },
  {
   "cell_type": "code",
   "execution_count": 6,
   "metadata": {},
   "outputs": [
    {
     "ename": "FileNotFoundError",
     "evalue": "[Errno 2] No such file or directory: '../data/train_new/tr_10_tr01010.wav'",
     "output_type": "error",
     "traceback": [
      "\u001b[1;31m---------------------------------------------------------------------------\u001b[0m",
      "\u001b[1;31mRuntimeError\u001b[0m                              Traceback (most recent call last)",
      "File \u001b[1;32mc:\\Users\\Micky\\anaconda3\\envs\\week4\\lib\\site-packages\\librosa\\core\\audio.py:155\u001b[0m, in \u001b[0;36mload\u001b[1;34m(path, sr, mono, offset, duration, dtype, res_type)\u001b[0m\n\u001b[0;32m    <a href='file:///c%3A/Users/Micky/anaconda3/envs/week4/lib/site-packages/librosa/core/audio.py?line=152'>153</a>\u001b[0m \u001b[39melse\u001b[39;00m:\n\u001b[0;32m    <a href='file:///c%3A/Users/Micky/anaconda3/envs/week4/lib/site-packages/librosa/core/audio.py?line=153'>154</a>\u001b[0m     \u001b[39m# Otherwise, create the soundfile object\u001b[39;00m\n\u001b[1;32m--> <a href='file:///c%3A/Users/Micky/anaconda3/envs/week4/lib/site-packages/librosa/core/audio.py?line=154'>155</a>\u001b[0m     context \u001b[39m=\u001b[39m sf\u001b[39m.\u001b[39;49mSoundFile(path)\n\u001b[0;32m    <a href='file:///c%3A/Users/Micky/anaconda3/envs/week4/lib/site-packages/librosa/core/audio.py?line=156'>157</a>\u001b[0m \u001b[39mwith\u001b[39;00m context \u001b[39mas\u001b[39;00m sf_desc:\n",
      "File \u001b[1;32mc:\\Users\\Micky\\anaconda3\\envs\\week4\\lib\\site-packages\\soundfile.py:629\u001b[0m, in \u001b[0;36mSoundFile.__init__\u001b[1;34m(self, file, mode, samplerate, channels, subtype, endian, format, closefd)\u001b[0m\n\u001b[0;32m    <a href='file:///c%3A/Users/Micky/anaconda3/envs/week4/lib/site-packages/soundfile.py?line=626'>627</a>\u001b[0m \u001b[39mself\u001b[39m\u001b[39m.\u001b[39m_info \u001b[39m=\u001b[39m _create_info_struct(file, mode, samplerate, channels,\n\u001b[0;32m    <a href='file:///c%3A/Users/Micky/anaconda3/envs/week4/lib/site-packages/soundfile.py?line=627'>628</a>\u001b[0m                                  \u001b[39mformat\u001b[39m, subtype, endian)\n\u001b[1;32m--> <a href='file:///c%3A/Users/Micky/anaconda3/envs/week4/lib/site-packages/soundfile.py?line=628'>629</a>\u001b[0m \u001b[39mself\u001b[39m\u001b[39m.\u001b[39m_file \u001b[39m=\u001b[39m \u001b[39mself\u001b[39;49m\u001b[39m.\u001b[39;49m_open(file, mode_int, closefd)\n\u001b[0;32m    <a href='file:///c%3A/Users/Micky/anaconda3/envs/week4/lib/site-packages/soundfile.py?line=629'>630</a>\u001b[0m \u001b[39mif\u001b[39;00m \u001b[39mset\u001b[39m(mode)\u001b[39m.\u001b[39missuperset(\u001b[39m'\u001b[39m\u001b[39mr+\u001b[39m\u001b[39m'\u001b[39m) \u001b[39mand\u001b[39;00m \u001b[39mself\u001b[39m\u001b[39m.\u001b[39mseekable():\n\u001b[0;32m    <a href='file:///c%3A/Users/Micky/anaconda3/envs/week4/lib/site-packages/soundfile.py?line=630'>631</a>\u001b[0m     \u001b[39m# Move write position to 0 (like in Python file objects)\u001b[39;00m\n",
      "File \u001b[1;32mc:\\Users\\Micky\\anaconda3\\envs\\week4\\lib\\site-packages\\soundfile.py:1183\u001b[0m, in \u001b[0;36mSoundFile._open\u001b[1;34m(self, file, mode_int, closefd)\u001b[0m\n\u001b[0;32m   <a href='file:///c%3A/Users/Micky/anaconda3/envs/week4/lib/site-packages/soundfile.py?line=1181'>1182</a>\u001b[0m     \u001b[39mraise\u001b[39;00m \u001b[39mTypeError\u001b[39;00m(\u001b[39m\"\u001b[39m\u001b[39mInvalid file: \u001b[39m\u001b[39m{0!r}\u001b[39;00m\u001b[39m\"\u001b[39m\u001b[39m.\u001b[39mformat(\u001b[39mself\u001b[39m\u001b[39m.\u001b[39mname))\n\u001b[1;32m-> <a href='file:///c%3A/Users/Micky/anaconda3/envs/week4/lib/site-packages/soundfile.py?line=1182'>1183</a>\u001b[0m _error_check(_snd\u001b[39m.\u001b[39;49msf_error(file_ptr),\n\u001b[0;32m   <a href='file:///c%3A/Users/Micky/anaconda3/envs/week4/lib/site-packages/soundfile.py?line=1183'>1184</a>\u001b[0m              \u001b[39m\"\u001b[39;49m\u001b[39mError opening \u001b[39;49m\u001b[39m{0!r}\u001b[39;49;00m\u001b[39m: \u001b[39;49m\u001b[39m\"\u001b[39;49m\u001b[39m.\u001b[39;49mformat(\u001b[39mself\u001b[39;49m\u001b[39m.\u001b[39;49mname))\n\u001b[0;32m   <a href='file:///c%3A/Users/Micky/anaconda3/envs/week4/lib/site-packages/soundfile.py?line=1184'>1185</a>\u001b[0m \u001b[39mif\u001b[39;00m mode_int \u001b[39m==\u001b[39m _snd\u001b[39m.\u001b[39mSFM_WRITE:\n\u001b[0;32m   <a href='file:///c%3A/Users/Micky/anaconda3/envs/week4/lib/site-packages/soundfile.py?line=1185'>1186</a>\u001b[0m     \u001b[39m# Due to a bug in libsndfile version <= 1.0.25, frames != 0\u001b[39;00m\n\u001b[0;32m   <a href='file:///c%3A/Users/Micky/anaconda3/envs/week4/lib/site-packages/soundfile.py?line=1186'>1187</a>\u001b[0m     \u001b[39m# when opening a named pipe in SFM_WRITE mode.\u001b[39;00m\n\u001b[0;32m   <a href='file:///c%3A/Users/Micky/anaconda3/envs/week4/lib/site-packages/soundfile.py?line=1187'>1188</a>\u001b[0m     \u001b[39m# See http://github.com/erikd/libsndfile/issues/77.\u001b[39;00m\n",
      "File \u001b[1;32mc:\\Users\\Micky\\anaconda3\\envs\\week4\\lib\\site-packages\\soundfile.py:1357\u001b[0m, in \u001b[0;36m_error_check\u001b[1;34m(err, prefix)\u001b[0m\n\u001b[0;32m   <a href='file:///c%3A/Users/Micky/anaconda3/envs/week4/lib/site-packages/soundfile.py?line=1355'>1356</a>\u001b[0m err_str \u001b[39m=\u001b[39m _snd\u001b[39m.\u001b[39msf_error_number(err)\n\u001b[1;32m-> <a href='file:///c%3A/Users/Micky/anaconda3/envs/week4/lib/site-packages/soundfile.py?line=1356'>1357</a>\u001b[0m \u001b[39mraise\u001b[39;00m \u001b[39mRuntimeError\u001b[39;00m(prefix \u001b[39m+\u001b[39m _ffi\u001b[39m.\u001b[39mstring(err_str)\u001b[39m.\u001b[39mdecode(\u001b[39m'\u001b[39m\u001b[39mutf-8\u001b[39m\u001b[39m'\u001b[39m, \u001b[39m'\u001b[39m\u001b[39mreplace\u001b[39m\u001b[39m'\u001b[39m))\n",
      "\u001b[1;31mRuntimeError\u001b[0m: Error opening '../data/train_new/tr_10_tr01010.wav': System error.",
      "\nDuring handling of the above exception, another exception occurred:\n",
      "\u001b[1;31mFileNotFoundError\u001b[0m                         Traceback (most recent call last)",
      "\u001b[1;32mc:\\Users\\Micky\\Desktop\\10Acad\\speech_to_text\\notebooks\\preprocessing.ipynb Cell 8'\u001b[0m in \u001b[0;36m<cell line: 1>\u001b[1;34m()\u001b[0m\n\u001b[1;32m----> <a href='vscode-notebook-cell:/c%3A/Users/Micky/Desktop/10Acad/speech_to_text/notebooks/preprocessing.ipynb#ch0000007?line=0'>1</a>\u001b[0m samples, sample_rate \u001b[39m=\u001b[39m librosa\u001b[39m.\u001b[39;49mload(\u001b[39m'\u001b[39;49m\u001b[39m../data/train_new/tr_10_tr01010.wav\u001b[39;49m\u001b[39m'\u001b[39;49m, sr\u001b[39m=\u001b[39;49m\u001b[39mNone\u001b[39;49;00m)\n\u001b[0;32m      <a href='vscode-notebook-cell:/c%3A/Users/Micky/Desktop/10Acad/speech_to_text/notebooks/preprocessing.ipynb#ch0000007?line=1'>2</a>\u001b[0m X \u001b[39m=\u001b[39m librosa\u001b[39m.\u001b[39mstft(samples)\n\u001b[0;32m      <a href='vscode-notebook-cell:/c%3A/Users/Micky/Desktop/10Acad/speech_to_text/notebooks/preprocessing.ipynb#ch0000007?line=2'>3</a>\u001b[0m Xdb \u001b[39m=\u001b[39m librosa\u001b[39m.\u001b[39mamplitude_to_db(\u001b[39mabs\u001b[39m(X))\n",
      "File \u001b[1;32mc:\\Users\\Micky\\anaconda3\\envs\\week4\\lib\\site-packages\\librosa\\util\\decorators.py:88\u001b[0m, in \u001b[0;36mdeprecate_positional_args.<locals>._inner_deprecate_positional_args.<locals>.inner_f\u001b[1;34m(*args, **kwargs)\u001b[0m\n\u001b[0;32m     <a href='file:///c%3A/Users/Micky/anaconda3/envs/week4/lib/site-packages/librosa/util/decorators.py?line=85'>86</a>\u001b[0m extra_args \u001b[39m=\u001b[39m \u001b[39mlen\u001b[39m(args) \u001b[39m-\u001b[39m \u001b[39mlen\u001b[39m(all_args)\n\u001b[0;32m     <a href='file:///c%3A/Users/Micky/anaconda3/envs/week4/lib/site-packages/librosa/util/decorators.py?line=86'>87</a>\u001b[0m \u001b[39mif\u001b[39;00m extra_args \u001b[39m<\u001b[39m\u001b[39m=\u001b[39m \u001b[39m0\u001b[39m:\n\u001b[1;32m---> <a href='file:///c%3A/Users/Micky/anaconda3/envs/week4/lib/site-packages/librosa/util/decorators.py?line=87'>88</a>\u001b[0m     \u001b[39mreturn\u001b[39;00m f(\u001b[39m*\u001b[39margs, \u001b[39m*\u001b[39m\u001b[39m*\u001b[39mkwargs)\n\u001b[0;32m     <a href='file:///c%3A/Users/Micky/anaconda3/envs/week4/lib/site-packages/librosa/util/decorators.py?line=89'>90</a>\u001b[0m \u001b[39m# extra_args > 0\u001b[39;00m\n\u001b[0;32m     <a href='file:///c%3A/Users/Micky/anaconda3/envs/week4/lib/site-packages/librosa/util/decorators.py?line=90'>91</a>\u001b[0m args_msg \u001b[39m=\u001b[39m [\n\u001b[0;32m     <a href='file:///c%3A/Users/Micky/anaconda3/envs/week4/lib/site-packages/librosa/util/decorators.py?line=91'>92</a>\u001b[0m     \u001b[39m\"\u001b[39m\u001b[39m{}\u001b[39;00m\u001b[39m=\u001b[39m\u001b[39m{}\u001b[39;00m\u001b[39m\"\u001b[39m\u001b[39m.\u001b[39mformat(name, arg)\n\u001b[0;32m     <a href='file:///c%3A/Users/Micky/anaconda3/envs/week4/lib/site-packages/librosa/util/decorators.py?line=92'>93</a>\u001b[0m     \u001b[39mfor\u001b[39;00m name, arg \u001b[39min\u001b[39;00m \u001b[39mzip\u001b[39m(kwonly_args[:extra_args], args[\u001b[39m-\u001b[39mextra_args:])\n\u001b[0;32m     <a href='file:///c%3A/Users/Micky/anaconda3/envs/week4/lib/site-packages/librosa/util/decorators.py?line=93'>94</a>\u001b[0m ]\n",
      "File \u001b[1;32mc:\\Users\\Micky\\anaconda3\\envs\\week4\\lib\\site-packages\\librosa\\core\\audio.py:174\u001b[0m, in \u001b[0;36mload\u001b[1;34m(path, sr, mono, offset, duration, dtype, res_type)\u001b[0m\n\u001b[0;32m    <a href='file:///c%3A/Users/Micky/anaconda3/envs/week4/lib/site-packages/librosa/core/audio.py?line=171'>172</a>\u001b[0m \u001b[39mif\u001b[39;00m \u001b[39misinstance\u001b[39m(path, (\u001b[39mstr\u001b[39m, pathlib\u001b[39m.\u001b[39mPurePath)):\n\u001b[0;32m    <a href='file:///c%3A/Users/Micky/anaconda3/envs/week4/lib/site-packages/librosa/core/audio.py?line=172'>173</a>\u001b[0m     warnings\u001b[39m.\u001b[39mwarn(\u001b[39m\"\u001b[39m\u001b[39mPySoundFile failed. Trying audioread instead.\u001b[39m\u001b[39m\"\u001b[39m, stacklevel\u001b[39m=\u001b[39m\u001b[39m2\u001b[39m)\n\u001b[1;32m--> <a href='file:///c%3A/Users/Micky/anaconda3/envs/week4/lib/site-packages/librosa/core/audio.py?line=173'>174</a>\u001b[0m     y, sr_native \u001b[39m=\u001b[39m __audioread_load(path, offset, duration, dtype)\n\u001b[0;32m    <a href='file:///c%3A/Users/Micky/anaconda3/envs/week4/lib/site-packages/librosa/core/audio.py?line=174'>175</a>\u001b[0m \u001b[39melse\u001b[39;00m:\n\u001b[0;32m    <a href='file:///c%3A/Users/Micky/anaconda3/envs/week4/lib/site-packages/librosa/core/audio.py?line=175'>176</a>\u001b[0m     \u001b[39mraise\u001b[39;00m (exc)\n",
      "File \u001b[1;32mc:\\Users\\Micky\\anaconda3\\envs\\week4\\lib\\site-packages\\librosa\\core\\audio.py:198\u001b[0m, in \u001b[0;36m__audioread_load\u001b[1;34m(path, offset, duration, dtype)\u001b[0m\n\u001b[0;32m    <a href='file:///c%3A/Users/Micky/anaconda3/envs/week4/lib/site-packages/librosa/core/audio.py?line=191'>192</a>\u001b[0m \u001b[39m\"\"\"Load an audio buffer using audioread.\u001b[39;00m\n\u001b[0;32m    <a href='file:///c%3A/Users/Micky/anaconda3/envs/week4/lib/site-packages/librosa/core/audio.py?line=192'>193</a>\u001b[0m \n\u001b[0;32m    <a href='file:///c%3A/Users/Micky/anaconda3/envs/week4/lib/site-packages/librosa/core/audio.py?line=193'>194</a>\u001b[0m \u001b[39mThis loads one block at a time, and then concatenates the results.\u001b[39;00m\n\u001b[0;32m    <a href='file:///c%3A/Users/Micky/anaconda3/envs/week4/lib/site-packages/librosa/core/audio.py?line=194'>195</a>\u001b[0m \u001b[39m\"\"\"\u001b[39;00m\n\u001b[0;32m    <a href='file:///c%3A/Users/Micky/anaconda3/envs/week4/lib/site-packages/librosa/core/audio.py?line=196'>197</a>\u001b[0m y \u001b[39m=\u001b[39m []\n\u001b[1;32m--> <a href='file:///c%3A/Users/Micky/anaconda3/envs/week4/lib/site-packages/librosa/core/audio.py?line=197'>198</a>\u001b[0m \u001b[39mwith\u001b[39;00m audioread\u001b[39m.\u001b[39;49maudio_open(path) \u001b[39mas\u001b[39;00m input_file:\n\u001b[0;32m    <a href='file:///c%3A/Users/Micky/anaconda3/envs/week4/lib/site-packages/librosa/core/audio.py?line=198'>199</a>\u001b[0m     sr_native \u001b[39m=\u001b[39m input_file\u001b[39m.\u001b[39msamplerate\n\u001b[0;32m    <a href='file:///c%3A/Users/Micky/anaconda3/envs/week4/lib/site-packages/librosa/core/audio.py?line=199'>200</a>\u001b[0m     n_channels \u001b[39m=\u001b[39m input_file\u001b[39m.\u001b[39mchannels\n",
      "File \u001b[1;32mc:\\Users\\Micky\\anaconda3\\envs\\week4\\lib\\site-packages\\audioread\\__init__.py:111\u001b[0m, in \u001b[0;36maudio_open\u001b[1;34m(path, backends)\u001b[0m\n\u001b[0;32m    <a href='file:///c%3A/Users/Micky/anaconda3/envs/week4/lib/site-packages/audioread/__init__.py?line=108'>109</a>\u001b[0m \u001b[39mfor\u001b[39;00m BackendClass \u001b[39min\u001b[39;00m backends:\n\u001b[0;32m    <a href='file:///c%3A/Users/Micky/anaconda3/envs/week4/lib/site-packages/audioread/__init__.py?line=109'>110</a>\u001b[0m     \u001b[39mtry\u001b[39;00m:\n\u001b[1;32m--> <a href='file:///c%3A/Users/Micky/anaconda3/envs/week4/lib/site-packages/audioread/__init__.py?line=110'>111</a>\u001b[0m         \u001b[39mreturn\u001b[39;00m BackendClass(path)\n\u001b[0;32m    <a href='file:///c%3A/Users/Micky/anaconda3/envs/week4/lib/site-packages/audioread/__init__.py?line=111'>112</a>\u001b[0m     \u001b[39mexcept\u001b[39;00m DecodeError:\n\u001b[0;32m    <a href='file:///c%3A/Users/Micky/anaconda3/envs/week4/lib/site-packages/audioread/__init__.py?line=112'>113</a>\u001b[0m         \u001b[39mpass\u001b[39;00m\n",
      "File \u001b[1;32mc:\\Users\\Micky\\anaconda3\\envs\\week4\\lib\\site-packages\\audioread\\rawread.py:62\u001b[0m, in \u001b[0;36mRawAudioFile.__init__\u001b[1;34m(self, filename)\u001b[0m\n\u001b[0;32m     <a href='file:///c%3A/Users/Micky/anaconda3/envs/week4/lib/site-packages/audioread/rawread.py?line=60'>61</a>\u001b[0m \u001b[39mdef\u001b[39;00m \u001b[39m__init__\u001b[39m(\u001b[39mself\u001b[39m, filename):\n\u001b[1;32m---> <a href='file:///c%3A/Users/Micky/anaconda3/envs/week4/lib/site-packages/audioread/rawread.py?line=61'>62</a>\u001b[0m     \u001b[39mself\u001b[39m\u001b[39m.\u001b[39m_fh \u001b[39m=\u001b[39m \u001b[39mopen\u001b[39;49m(filename, \u001b[39m'\u001b[39;49m\u001b[39mrb\u001b[39;49m\u001b[39m'\u001b[39;49m)\n\u001b[0;32m     <a href='file:///c%3A/Users/Micky/anaconda3/envs/week4/lib/site-packages/audioread/rawread.py?line=63'>64</a>\u001b[0m     \u001b[39mtry\u001b[39;00m:\n\u001b[0;32m     <a href='file:///c%3A/Users/Micky/anaconda3/envs/week4/lib/site-packages/audioread/rawread.py?line=64'>65</a>\u001b[0m         \u001b[39mself\u001b[39m\u001b[39m.\u001b[39m_file \u001b[39m=\u001b[39m aifc\u001b[39m.\u001b[39mopen(\u001b[39mself\u001b[39m\u001b[39m.\u001b[39m_fh)\n",
      "\u001b[1;31mFileNotFoundError\u001b[0m: [Errno 2] No such file or directory: '../data/train_new/tr_10_tr01010.wav'"
     ]
    }
   ],
   "source": [
    "samples, sample_rate = librosa.load('../data/train_new/tr_10_tr01010.wav', sr=None)\n",
    "X = librosa.stft(samples)\n",
    "Xdb = librosa.amplitude_to_db(abs(X))\n",
    "plt.figure(figsize=(14, 5))\n",
    "librosa.display.specshow(Xdb, sr=sample_rate, x_axis='time', y_axis='hz')\n",
    "plt.colorbar()"
   ]
  },
  {
   "cell_type": "markdown",
   "metadata": {},
   "source": [
    "## Standardize Sampling Rate"
   ]
  },
  {
   "cell_type": "code",
   "execution_count": null,
   "metadata": {},
   "outputs": [],
   "source": [
    "# checking rate before standardizing\n",
    "\n",
    "data =  wave.open('../data/train/wav/tr_10_tr01010.wav')\n",
    "data.getparams()"
   ]
  },
  {
   "cell_type": "code",
   "execution_count": null,
   "metadata": {},
   "outputs": [],
   "source": [
    "DV.visualize('../data/train/wav/tr_10_tr01010.wav')"
   ]
  },
  {
   "cell_type": "code",
   "execution_count": null,
   "metadata": {},
   "outputs": [],
   "source": [
    "DC.standardize(meta_data)"
   ]
  },
  {
   "cell_type": "code",
   "execution_count": null,
   "metadata": {},
   "outputs": [],
   "source": [
    "# checking rate after standardizing \n",
    "data =  wave.open('../data/train_new/tr_10_tr01010.wav')\n",
    "data.getparams()"
   ]
  },
  {
   "cell_type": "code",
   "execution_count": null,
   "metadata": {},
   "outputs": [],
   "source": [
    "DV.visualize('../data/train_new/tr_10_tr01010.wav')"
   ]
  },
  {
   "cell_type": "markdown",
   "metadata": {},
   "source": [
    "**Observation**\n",
    "- sample rates have been sucessfully standardized\n",
    "- framrate = 44100\n"
   ]
  },
  {
   "cell_type": "markdown",
   "metadata": {},
   "source": [
    "## Resizing Audio Samples"
   ]
  },
  {
   "cell_type": "code",
   "execution_count": null,
   "metadata": {},
   "outputs": [],
   "source": [
    "# checking duration before resizing\n",
    "\n",
    "meta_data= DC.add_duration(meta_data, output= True)\n",
    "selection = meta_data[meta_data[\"Duration\"] != 400]\n",
    "selection.head()"
   ]
  },
  {
   "cell_type": "code",
   "execution_count": null,
   "metadata": {},
   "outputs": [],
   "source": [
    "DC.resize_pad_trunc(meta_data, 5000)"
   ]
  },
  {
   "cell_type": "code",
   "execution_count": null,
   "metadata": {},
   "outputs": [],
   "source": [
    "# checking truncated result\n",
    "meta_data= DC.add_duration(meta_data, output= True)\n",
    "selection = meta_data[meta_data[\"Duration\"] != 400]\n",
    "selection.head()"
   ]
  },
  {
   "cell_type": "markdown",
   "metadata": {},
   "source": [
    "## Convert Mono to Stereo"
   ]
  },
  {
   "cell_type": "code",
   "execution_count": null,
   "metadata": {},
   "outputs": [],
   "source": [
    "# adding new column for channels count\n",
    "\n",
    "meta_data= DC.channel_count(meta_data)\n",
    "selection = meta_data[meta_data[\"Duration\"] != 400]\n",
    "selection.head()"
   ]
  },
  {
   "cell_type": "code",
   "execution_count": null,
   "metadata": {},
   "outputs": [],
   "source": [
    "# checking number of channels\n",
    "\n",
    "meta_data[\"n_channel\"].value_counts()"
   ]
  },
  {
   "cell_type": "markdown",
   "metadata": {},
   "source": [
    "**Observation**\n",
    "- All the loadded audio samples are mono\n",
    "- 400 is just a placeholder for missing audio files \n",
    "  because only a limited number of samples are taken for development\n",
    "  This will not be present when the data is complete."
   ]
  },
  {
   "cell_type": "code",
   "execution_count": null,
   "metadata": {},
   "outputs": [],
   "source": [
    "# Converting to stereo\n",
    "\n",
    "DC.make_stereo(meta_data, True)"
   ]
  },
  {
   "cell_type": "code",
   "execution_count": null,
   "metadata": {},
   "outputs": [],
   "source": [
    "# making sure everything is right\n",
    "data =  wave.open('../data/train_new/tr_10_tr01010.wav')\n",
    "print(\"the parameters are: \", data.getparams())\n",
    "meta_data= DC.add_duration(meta_data, output= True)\n",
    "meta_data= DC.channel_count(meta_data, output= True)\n",
    "selection = meta_data[meta_data[\"Duration\"] != 400]\n",
    "selection.head()\n"
   ]
  },
  {
   "cell_type": "code",
   "execution_count": null,
   "metadata": {},
   "outputs": [],
   "source": [
    "DV.visualize('../data/train_new/tr_10_tr01010.wav')"
   ]
  },
  {
   "cell_type": "markdown",
   "metadata": {},
   "source": [
    "**Observation**\n",
    "- audio samples have been successfully converted to stereo\n",
    "- 400 is just a placeholder for missing audio files \n",
    "  because only a limited number of samples are taken for development\n",
    "  This will not be present when the data is complete."
   ]
  },
  {
   "cell_type": "markdown",
   "metadata": {},
   "source": [
    "## Data Augumentation\n",
    "### Time Shift"
   ]
  },
  {
   "cell_type": "markdown",
   "metadata": {},
   "source": [
    "DC.time_shift(meta_data, int(sample_rate/10), True)"
   ]
  },
  {
   "cell_type": "code",
   "execution_count": null,
   "metadata": {},
   "outputs": [],
   "source": [
    "# making sure everything is right\n",
    "data =  wave.open('../data/train_new/tr_10_tr01010.wav')\n",
    "print(\"the parameters are: \", data.getparams())\n",
    "meta_data= DC.add_duration(meta_data, output= True)\n",
    "meta_data= DC.channel_count(meta_data, output= True)\n",
    "selection = meta_data[meta_data[\"Duration\"] != 400]\n",
    "selection.head()"
   ]
  },
  {
   "cell_type": "code",
   "execution_count": null,
   "metadata": {},
   "outputs": [],
   "source": [
    "DV.visualize('../data/train_new/tr_10_tr01010.wav')"
   ]
  },
  {
   "cell_type": "code",
   "execution_count": null,
   "metadata": {},
   "outputs": [],
   "source": [
    "samples, sample_rate = librosa.load('../data/train_new/tr_10_tr01010.wav', sr=None)\n",
    "DV.plot_spec(data=samples,sr=sample_rate)"
   ]
  },
  {
   "cell_type": "markdown",
   "metadata": {},
   "source": [
    "## Feature Extraction"
   ]
  },
  {
   "cell_type": "markdown",
   "metadata": {},
   "source": [
    "Here we will be using Mel-Frequency Cepstral Coefficients(MFCC) from the audio samples. The MFCC summarises the frequency distribution across the window size, so it is possible to analyse both the frequency and time characteristics of the sound. These audio representations will allow us to identify features for classification."
   ]
  },
  {
   "cell_type": "code",
   "execution_count": null,
   "metadata": {},
   "outputs": [],
   "source": [
    "features_df = DC.total_feature_extractor(meta_data)"
   ]
  },
  {
   "cell_type": "code",
   "execution_count": null,
   "metadata": {},
   "outputs": [],
   "source": [
    "features_df.head()"
   ]
  },
  {
   "cell_type": "code",
   "execution_count": null,
   "metadata": {},
   "outputs": [],
   "source": [
    "\n",
    "samples, sample_rate = librosa.load('../data/train_new/tr_10_tr01010.wav', sr=None)\n",
    "# MFCC\n",
    "plt.figure(figsize=(20,5))\n",
    "mfccs = librosa.feature.mfcc(samples, sr=sample_rate)\n",
    "print(mfccs.shape)\n",
    "\n",
    "librosa.display.specshow(mfccs, sr=sample_rate, x_axis='time')"
   ]
  },
  {
   "cell_type": "markdown",
   "metadata": {},
   "source": [
    "### saving processed data and meta_data"
   ]
  },
  {
   "cell_type": "code",
   "execution_count": null,
   "metadata": {},
   "outputs": [],
   "source": [
    "# saving data \n",
    "\n",
    "features_df.to_csv(\"../data/data.csv\")\n",
    "meta_data.to_csv(\"../data/meta_data.csv\")\n"
   ]
  },
  {
   "cell_type": "code",
   "execution_count": null,
   "metadata": {},
   "outputs": [],
   "source": []
  }
 ],
 "metadata": {
  "interpreter": {
   "hash": "8db758ad8c7bf89e0e05ff83b05117f8f69a41b0c4c743ef06d8074f849b7b0c"
  },
  "kernelspec": {
   "display_name": "Python 3.9.12 ('week4')",
   "language": "python",
   "name": "python3"
  },
  "language_info": {
   "codemirror_mode": {
    "name": "ipython",
    "version": 3
   },
   "file_extension": ".py",
   "mimetype": "text/x-python",
   "name": "python",
   "nbconvert_exporter": "python",
   "pygments_lexer": "ipython3",
   "version": "3.9.12"
  },
  "orig_nbformat": 4
 },
 "nbformat": 4,
 "nbformat_minor": 2
}
