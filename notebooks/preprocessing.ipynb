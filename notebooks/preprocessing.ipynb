{
 "cells": [
  {
   "cell_type": "markdown",
   "metadata": {},
   "source": [
    "## Data Preprocessing"
   ]
  },
  {
   "cell_type": "code",
   "execution_count": 1,
   "metadata": {},
   "outputs": [],
   "source": [
    "# loading libraries\n",
    "import librosa   #for audio processing\n",
    "import librosa.display\n",
    "import wave\n",
    "import IPython.display as ipd\n",
    "import matplotlib.pyplot as plt\n",
    "import numpy as np\n",
    "import pandas as pd\n",
    "\n",
    "import matplotlib.pylab as plt\n",
    "import seaborn as sns\n",
    "import sys\n",
    "import json\n",
    "from scipy.io import wavfile #for audio processing\n",
    "import warnings\n",
    "warnings.filterwarnings(\"ignore\")"
   ]
  },
  {
   "cell_type": "code",
   "execution_count": 2,
   "metadata": {},
   "outputs": [],
   "source": [
    "# loading scripts\n",
    "sys.path.insert(1, '../scripts')\n",
    "sys.path.append(\"..\")\n",
    "sys.path.append(\".\")\n",
    "\n",
    "from meta_cleaner import MetaCleaner\n",
    "from audio_cleaner import AudioCleaner\n",
    "from data_viz import Data_Viz\n",
    "\n",
    "MC = MetaCleaner(\"../logs/preprocessing_notebook.log\")\n",
    "AC = AudioCleaner(\"../logs/preprocessing_notebook.log\")\n",
    "DV = Data_Viz()"
   ]
  },
  {
   "cell_type": "markdown",
   "metadata": {},
   "source": [
    "## Processing Single Audio File"
   ]
  },
  {
   "cell_type": "code",
   "execution_count": 3,
   "metadata": {},
   "outputs": [
    {
     "name": "stdout",
     "output_type": "stream",
     "text": [
      "Sample:  [-0.00567627 -0.00564575 -0.00564575 ... -0.0057373  -0.0057373\n",
      " -0.00558472]\n",
      "Rate:  16000\n"
     ]
    }
   ],
   "source": [
    "# load sample audio\n",
    "\n",
    "sam, rat = AC.load_audio(\"../data/train/wav/tr_101_tr02001.wav\")\n",
    "audio = [sam, rat]\n",
    "print(\"Sample: \", audio[0])\n",
    "print(\"Rate: \", audio[1])"
   ]
  },
  {
   "cell_type": "code",
   "execution_count": 4,
   "metadata": {},
   "outputs": [
    {
     "name": "stdout",
     "output_type": "stream",
     "text": [
      "Before:  (126976,)\n",
      "After:  (2, 126976)\n"
     ]
    }
   ],
   "source": [
    "# changing channel\n",
    "\n",
    "print(\"Before: \", audio[0].shape)\n",
    "output = AC.change_to_stereo(audio)\n",
    "print(\"After: \", output[0].shape)"
   ]
  },
  {
   "cell_type": "code",
   "execution_count": 5,
   "metadata": {},
   "outputs": [
    {
     "name": "stdout",
     "output_type": "stream",
     "text": [
      "Before:  16000\n",
      "After:  44100\n"
     ]
    }
   ],
   "source": [
    "# changing sampling rate\n",
    "\n",
    "print(\"Before: \", output[1])\n",
    "output2 = AC.change_rate(output, 44100)\n",
    "print(\"After: \", output2[1])\n",
    "    "
   ]
  },
  {
   "cell_type": "code",
   "execution_count": 6,
   "metadata": {},
   "outputs": [
    {
     "name": "stdout",
     "output_type": "stream",
     "text": [
      "Before:  7.9360090702947845\n",
      "After:  8.081632653061224\n"
     ]
    }
   ],
   "source": [
    "# changing duration \n",
    "\n",
    "print(\"Before: \", librosa.get_duration(y=output2[0], sr=output2[1]))\n",
    "output3 = AC.change_duration(output2, 8100)\n",
    "print(\"After: \", librosa.get_duration(y=output3[0], sr=output3[1]))\n",
    "    "
   ]
  },
  {
   "cell_type": "code",
   "execution_count": 7,
   "metadata": {},
   "outputs": [],
   "source": [
    "# augumentation\n",
    "\n",
    "output4 = AC.time_shift(output3)"
   ]
  },
  {
   "cell_type": "markdown",
   "metadata": {},
   "source": [
    "## Processing in batch"
   ]
  },
  {
   "cell_type": "markdown",
   "metadata": {},
   "source": [
    "### Metadata preparation"
   ]
  },
  {
   "cell_type": "code",
   "execution_count": 8,
   "metadata": {},
   "outputs": [
    {
     "data": {
      "text/html": [
       "<div>\n",
       "<style scoped>\n",
       "    .dataframe tbody tr th:only-of-type {\n",
       "        vertical-align: middle;\n",
       "    }\n",
       "\n",
       "    .dataframe tbody tr th {\n",
       "        vertical-align: top;\n",
       "    }\n",
       "\n",
       "    .dataframe thead th {\n",
       "        text-align: right;\n",
       "    }\n",
       "</style>\n",
       "<table border=\"1\" class=\"dataframe\">\n",
       "  <thead>\n",
       "    <tr style=\"text-align: right;\">\n",
       "      <th></th>\n",
       "      <th>Target</th>\n",
       "      <th>Feature</th>\n",
       "      <th>Output</th>\n",
       "    </tr>\n",
       "  </thead>\n",
       "  <tbody>\n",
       "    <tr>\n",
       "      <th>0</th>\n",
       "      <td>ያንደኛ ደረጃ ትምህርታቸው ን ጐንደር ተ ም ረዋል</td>\n",
       "      <td>../data/train/wav/tr_1_tr01001.wav</td>\n",
       "      <td>../data/train_new/tr_1_tr01001.wav</td>\n",
       "    </tr>\n",
       "    <tr>\n",
       "      <th>1</th>\n",
       "      <td>የተ ለቀቁት ምርኮኞች በ አካባቢያቸው ሰላማዊ ኑሮ እንዲ ኖሩ የ ትራንስፖ...</td>\n",
       "      <td>../data/train/wav/tr_2_tr01002.wav</td>\n",
       "      <td>../data/train_new/tr_2_tr01002.wav</td>\n",
       "    </tr>\n",
       "    <tr>\n",
       "      <th>2</th>\n",
       "      <td>በ አዲስ አበባው ስታዲየም በ ተካሄዱ ት ሁለት ግጥሚያ ዎች በ መጀመሪያ ...</td>\n",
       "      <td>../data/train/wav/tr_3_tr01003.wav</td>\n",
       "      <td>../data/train_new/tr_3_tr01003.wav</td>\n",
       "    </tr>\n",
       "    <tr>\n",
       "      <th>3</th>\n",
       "      <td>ወሬው ን ወሬ ያደረጉ ምስጢረ ኞች ናቸው</td>\n",
       "      <td>../data/train/wav/tr_4_tr01004.wav</td>\n",
       "      <td>../data/train_new/tr_4_tr01004.wav</td>\n",
       "    </tr>\n",
       "    <tr>\n",
       "      <th>4</th>\n",
       "      <td>ኢትዮጵያዊ ቷ በ ብሄራዊ ባህላዊ አለባበስ ከ አለም አንደኝነት ን ተቀዳጀ ች</td>\n",
       "      <td>../data/train/wav/tr_5_tr01005.wav</td>\n",
       "      <td>../data/train_new/tr_5_tr01005.wav</td>\n",
       "    </tr>\n",
       "  </tbody>\n",
       "</table>\n",
       "</div>"
      ],
      "text/plain": [
       "                                              Target  \\\n",
       "0                    ያንደኛ ደረጃ ትምህርታቸው ን ጐንደር ተ ም ረዋል   \n",
       "1  የተ ለቀቁት ምርኮኞች በ አካባቢያቸው ሰላማዊ ኑሮ እንዲ ኖሩ የ ትራንስፖ...   \n",
       "2  በ አዲስ አበባው ስታዲየም በ ተካሄዱ ት ሁለት ግጥሚያ ዎች በ መጀመሪያ ...   \n",
       "3                          ወሬው ን ወሬ ያደረጉ ምስጢረ ኞች ናቸው   \n",
       "4   ኢትዮጵያዊ ቷ በ ብሄራዊ ባህላዊ አለባበስ ከ አለም አንደኝነት ን ተቀዳጀ ች   \n",
       "\n",
       "                              Feature                              Output  \n",
       "0  ../data/train/wav/tr_1_tr01001.wav  ../data/train_new/tr_1_tr01001.wav  \n",
       "1  ../data/train/wav/tr_2_tr01002.wav  ../data/train_new/tr_2_tr01002.wav  \n",
       "2  ../data/train/wav/tr_3_tr01003.wav  ../data/train_new/tr_3_tr01003.wav  \n",
       "3  ../data/train/wav/tr_4_tr01004.wav  ../data/train_new/tr_4_tr01004.wav  \n",
       "4  ../data/train/wav/tr_5_tr01005.wav  ../data/train_new/tr_5_tr01005.wav  "
      ]
     },
     "execution_count": 8,
     "metadata": {},
     "output_type": "execute_result"
    }
   ],
   "source": [
    "# creating meta data\n",
    "\n",
    "path = \"../data/train\"\n",
    "output = \"../data/train_new\"\n",
    "\n",
    "meta_data = MC.generate_metadata(path, output)\n",
    "meta_data.head()"
   ]
  },
  {
   "cell_type": "code",
   "execution_count": 9,
   "metadata": {},
   "outputs": [
    {
     "data": {
      "text/html": [
       "<div>\n",
       "<style scoped>\n",
       "    .dataframe tbody tr th:only-of-type {\n",
       "        vertical-align: middle;\n",
       "    }\n",
       "\n",
       "    .dataframe tbody tr th {\n",
       "        vertical-align: top;\n",
       "    }\n",
       "\n",
       "    .dataframe thead th {\n",
       "        text-align: right;\n",
       "    }\n",
       "</style>\n",
       "<table border=\"1\" class=\"dataframe\">\n",
       "  <thead>\n",
       "    <tr style=\"text-align: right;\">\n",
       "      <th></th>\n",
       "      <th>Target</th>\n",
       "      <th>Feature</th>\n",
       "      <th>Output</th>\n",
       "      <th>Duration</th>\n",
       "    </tr>\n",
       "  </thead>\n",
       "  <tbody>\n",
       "    <tr>\n",
       "      <th>9</th>\n",
       "      <td>ግን ወደ ኋላው ላይ ኢሳያስ እንደ ልማ ዳቸው ሁሉን ም የ መልከ ፍ ዲፕሎ...</td>\n",
       "      <td>../data/train/wav/tr_10_tr01010.wav</td>\n",
       "      <td>../data/train_new/tr_10_tr01010.wav</td>\n",
       "      <td>10.368</td>\n",
       "    </tr>\n",
       "    <tr>\n",
       "      <th>99</th>\n",
       "      <td>አለቃ የጻፏቸው መጽሀፍት ውድ ና ጣፋጭ ከ መሆናቸው የተነሳ በ ህትመታቸው...</td>\n",
       "      <td>../data/train/wav/tr_100_tr01100.wav</td>\n",
       "      <td>../data/train_new/tr_100_tr01100.wav</td>\n",
       "      <td>14.592</td>\n",
       "    </tr>\n",
       "    <tr>\n",
       "      <th>100</th>\n",
       "      <td>በ ኮምፒውተር ሳይንስ ፎን ት ቴክኖሎጂ ለ ዶክትሬት ዲግሪ ጥናት እያደረጉ...</td>\n",
       "      <td>../data/train/wav/tr_101_tr02001.wav</td>\n",
       "      <td>../data/train_new/tr_101_tr02001.wav</td>\n",
       "      <td>7.936</td>\n",
       "    </tr>\n",
       "    <tr>\n",
       "      <th>101</th>\n",
       "      <td>የ ውሀው ዘርፍ ያለበት ን የ ፋይናንስ ችግር ለ መፍታት የ ውሀ ሀብት ል...</td>\n",
       "      <td>../data/train/wav/tr_102_tr02002.wav</td>\n",
       "      <td>../data/train_new/tr_102_tr02002.wav</td>\n",
       "      <td>6.528</td>\n",
       "    </tr>\n",
       "    <tr>\n",
       "      <th>102</th>\n",
       "      <td>የ መንገደኞች ማስተናገጃ ህንጻው በ ሰአት እስከ ሶስት ሺ ያህል መንገደኞ...</td>\n",
       "      <td>../data/train/wav/tr_103_tr02003.wav</td>\n",
       "      <td>../data/train_new/tr_103_tr02003.wav</td>\n",
       "      <td>6.528</td>\n",
       "    </tr>\n",
       "  </tbody>\n",
       "</table>\n",
       "</div>"
      ],
      "text/plain": [
       "                                                Target  \\\n",
       "9    ግን ወደ ኋላው ላይ ኢሳያስ እንደ ልማ ዳቸው ሁሉን ም የ መልከ ፍ ዲፕሎ...   \n",
       "99   አለቃ የጻፏቸው መጽሀፍት ውድ ና ጣፋጭ ከ መሆናቸው የተነሳ በ ህትመታቸው...   \n",
       "100  በ ኮምፒውተር ሳይንስ ፎን ት ቴክኖሎጂ ለ ዶክትሬት ዲግሪ ጥናት እያደረጉ...   \n",
       "101  የ ውሀው ዘርፍ ያለበት ን የ ፋይናንስ ችግር ለ መፍታት የ ውሀ ሀብት ል...   \n",
       "102  የ መንገደኞች ማስተናገጃ ህንጻው በ ሰአት እስከ ሶስት ሺ ያህል መንገደኞ...   \n",
       "\n",
       "                                  Feature  \\\n",
       "9     ../data/train/wav/tr_10_tr01010.wav   \n",
       "99   ../data/train/wav/tr_100_tr01100.wav   \n",
       "100  ../data/train/wav/tr_101_tr02001.wav   \n",
       "101  ../data/train/wav/tr_102_tr02002.wav   \n",
       "102  ../data/train/wav/tr_103_tr02003.wav   \n",
       "\n",
       "                                   Output  Duration  \n",
       "9     ../data/train_new/tr_10_tr01010.wav    10.368  \n",
       "99   ../data/train_new/tr_100_tr01100.wav    14.592  \n",
       "100  ../data/train_new/tr_101_tr02001.wav     7.936  \n",
       "101  ../data/train_new/tr_102_tr02002.wav     6.528  \n",
       "102  ../data/train_new/tr_103_tr02003.wav     6.528  "
      ]
     },
     "execution_count": 9,
     "metadata": {},
     "output_type": "execute_result"
    }
   ],
   "source": [
    "# adding duration column\n",
    "\n",
    "MC.add_duration(meta_data)\n",
    "selection = meta_data[meta_data[\"Duration\"] != 400]\n",
    "selection.head()"
   ]
  },
  {
   "cell_type": "code",
   "execution_count": 10,
   "metadata": {},
   "outputs": [
    {
     "name": "stdout",
     "output_type": "stream",
     "text": [
      "Pipeline Ready!\n",
      "\n",
      "Audio Processing Started...\n"
     ]
    }
   ],
   "source": [
    "# building sklearn pipeline to process audio\n",
    "\n",
    "pipe = AC.build_pipe([44100, 8100])\n",
    "AC.batch_iterator(meta_data, pipe)    "
   ]
  },
  {
   "cell_type": "markdown",
   "metadata": {},
   "source": [
    "## Final check"
   ]
  },
  {
   "cell_type": "code",
   "execution_count": null,
   "metadata": {},
   "outputs": [],
   "source": [
    "# making sure everything is right\n",
    "data =  wave.open('../data/train_new/tr_10_tr01010.wav')\n",
    "print(\"the parameters are: \", data.getparams())\n",
    "meta_data= MC.add_duration(meta_data, output= True)\n",
    "meta_data= MC.channel_count(meta_data, output= True)\n",
    "selection = meta_data[meta_data[\"Duration\"] != 400]\n",
    "selection.head()"
   ]
  },
  {
   "cell_type": "code",
   "execution_count": null,
   "metadata": {},
   "outputs": [],
   "source": [
    "samples, sample_rate = librosa.load('../data/train_new/tr_10_tr01010.wav', sr=None)\n",
    "DV.plot_spec(data=samples,sr=sample_rate)"
   ]
  },
  {
   "cell_type": "markdown",
   "metadata": {},
   "source": [
    "## Data Splitting"
   ]
  },
  {
   "cell_type": "code",
   "execution_count": null,
   "metadata": {},
   "outputs": [],
   "source": [
    "# shuffling and splitting data\n",
    "\n",
    "dfs = MC.split(meta_data, 80, 2)\n",
    "train = dfs[0]\n",
    "test = dfs[1]\n",
    "print(train.shape)\n",
    "print(test.shape)"
   ]
  },
  {
   "cell_type": "markdown",
   "metadata": {},
   "source": [
    "### saving processed meta_data"
   ]
  },
  {
   "cell_type": "code",
   "execution_count": null,
   "metadata": {},
   "outputs": [],
   "source": [
    "# saving data as csv\n",
    "\n",
    "MC.meta_saver(train, \"../data/train_meta.csv\", \"csv\")\n",
    "MC.meta_saver(test, \"../data/test_meta.csv\", \"csv\")"
   ]
  },
  {
   "cell_type": "code",
   "execution_count": null,
   "metadata": {},
   "outputs": [],
   "source": [
    "# loading and checking CSV data\n",
    "\n",
    "test_df = DC.meta_loader(\"../data/train_meta.csv\", \"csv\")\n",
    "test_df.head()"
   ]
  },
  {
   "cell_type": "code",
   "execution_count": null,
   "metadata": {},
   "outputs": [],
   "source": []
  }
 ],
 "metadata": {
  "interpreter": {
   "hash": "2b997b5b8794c030e25a28be498e8226ee8897df85ede9190db777bdc9cc75be"
  },
  "kernelspec": {
   "display_name": "Python 3.9.7 ('base')",
   "language": "python",
   "name": "python3"
  },
  "language_info": {
   "codemirror_mode": {
    "name": "ipython",
    "version": 3
   },
   "file_extension": ".py",
   "mimetype": "text/x-python",
   "name": "python",
   "nbconvert_exporter": "python",
   "pygments_lexer": "ipython3",
   "version": "3.9.7"
  },
  "orig_nbformat": 4
 },
 "nbformat": 4,
 "nbformat_minor": 2
}
