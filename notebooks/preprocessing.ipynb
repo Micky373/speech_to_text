{
 "cells": [
  {
   "cell_type": "markdown",
   "metadata": {},
   "source": [
    "## Data Preprocessing"
   ]
  },
  {
   "cell_type": "code",
   "execution_count": 8,
   "metadata": {},
   "outputs": [],
   "source": [
    "# loading libraries\n",
    "import librosa   #for audio processing\n",
    "import librosa.display\n",
    "import wave\n",
    "import IPython.display as ipd\n",
    "import matplotlib.pyplot as plt\n",
    "import numpy as np\n",
    "import pandas as pd\n",
    "import matplotlib.pylab as plt\n",
    "import seaborn as sns\n",
    "import sys\n",
    "import json\n",
    "from scipy.io import wavfile #for audio processing\n",
    "import warnings\n",
    "warnings.filterwarnings(\"ignore\")"
   ]
  },
  {
   "cell_type": "code",
   "execution_count": 9,
   "metadata": {},
   "outputs": [],
   "source": [
    "# loading scripts\n",
    "sys.path.insert(1, '../scripts')\n",
    "sys.path.append(\"..\")\n",
    "sys.path.append(\".\")\n",
    "\n",
    "from data_cleaning import DataCleaner\n",
    "from data_viz import Data_Viz\n",
    "\n",
    "DC = DataCleaner(\"../logs/preprocessing_notebook.log\")\n",
    "DV = Data_Viz()"
   ]
  },
  {
   "cell_type": "markdown",
   "metadata": {},
   "source": [
    "## Load metadata"
   ]
  },
  {
   "cell_type": "code",
   "execution_count": 13,
   "metadata": {},
   "outputs": [
    {
     "data": {
      "text/html": [
       "<div>\n",
       "<style scoped>\n",
       "    .dataframe tbody tr th:only-of-type {\n",
       "        vertical-align: middle;\n",
       "    }\n",
       "\n",
       "    .dataframe tbody tr th {\n",
       "        vertical-align: top;\n",
       "    }\n",
       "\n",
       "    .dataframe thead th {\n",
       "        text-align: right;\n",
       "    }\n",
       "</style>\n",
       "<table border=\"1\" class=\"dataframe\">\n",
       "  <thead>\n",
       "    <tr style=\"text-align: right;\">\n",
       "      <th></th>\n",
       "      <th>Target</th>\n",
       "      <th>Feature</th>\n",
       "      <th>Output</th>\n",
       "    </tr>\n",
       "  </thead>\n",
       "  <tbody>\n",
       "    <tr>\n",
       "      <th>0</th>\n",
       "      <td>ያንደኛ ደረጃ ትምህርታቸው ን ጐንደር ተ ም ረዋል</td>\n",
       "      <td>../data/train/wav/tr_1_tr01001.wav</td>\n",
       "      <td>../data/train_new/tr_1_tr01001.wav</td>\n",
       "    </tr>\n",
       "    <tr>\n",
       "      <th>1</th>\n",
       "      <td>የተ ለቀቁት ምርኮኞች በ አካባቢያቸው ሰላማዊ ኑሮ እንዲ ኖሩ የ ትራንስፖ...</td>\n",
       "      <td>../data/train/wav/tr_2_tr01002.wav</td>\n",
       "      <td>../data/train_new/tr_2_tr01002.wav</td>\n",
       "    </tr>\n",
       "    <tr>\n",
       "      <th>2</th>\n",
       "      <td>በ አዲስ አበባው ስታዲየም በ ተካሄዱ ት ሁለት ግጥሚያ ዎች በ መጀመሪያ ...</td>\n",
       "      <td>../data/train/wav/tr_3_tr01003.wav</td>\n",
       "      <td>../data/train_new/tr_3_tr01003.wav</td>\n",
       "    </tr>\n",
       "    <tr>\n",
       "      <th>3</th>\n",
       "      <td>ወሬው ን ወሬ ያደረጉ ምስጢረ ኞች ናቸው</td>\n",
       "      <td>../data/train/wav/tr_4_tr01004.wav</td>\n",
       "      <td>../data/train_new/tr_4_tr01004.wav</td>\n",
       "    </tr>\n",
       "    <tr>\n",
       "      <th>4</th>\n",
       "      <td>ኢትዮጵያዊ ቷ በ ብሄራዊ ባህላዊ አለባበስ ከ አለም አንደኝነት ን ተቀዳጀ ች</td>\n",
       "      <td>../data/train/wav/tr_5_tr01005.wav</td>\n",
       "      <td>../data/train_new/tr_5_tr01005.wav</td>\n",
       "    </tr>\n",
       "  </tbody>\n",
       "</table>\n",
       "</div>"
      ],
      "text/plain": [
       "                                              Target  \\\n",
       "0                    ያንደኛ ደረጃ ትምህርታቸው ን ጐንደር ተ ም ረዋል   \n",
       "1  የተ ለቀቁት ምርኮኞች በ አካባቢያቸው ሰላማዊ ኑሮ እንዲ ኖሩ የ ትራንስፖ...   \n",
       "2  በ አዲስ አበባው ስታዲየም በ ተካሄዱ ት ሁለት ግጥሚያ ዎች በ መጀመሪያ ...   \n",
       "3                          ወሬው ን ወሬ ያደረጉ ምስጢረ ኞች ናቸው   \n",
       "4   ኢትዮጵያዊ ቷ በ ብሄራዊ ባህላዊ አለባበስ ከ አለም አንደኝነት ን ተቀዳጀ ች   \n",
       "\n",
       "                              Feature                              Output  \n",
       "0  ../data/train/wav/tr_1_tr01001.wav  ../data/train_new/tr_1_tr01001.wav  \n",
       "1  ../data/train/wav/tr_2_tr01002.wav  ../data/train_new/tr_2_tr01002.wav  \n",
       "2  ../data/train/wav/tr_3_tr01003.wav  ../data/train_new/tr_3_tr01003.wav  \n",
       "3  ../data/train/wav/tr_4_tr01004.wav  ../data/train_new/tr_4_tr01004.wav  \n",
       "4  ../data/train/wav/tr_5_tr01005.wav  ../data/train_new/tr_5_tr01005.wav  "
      ]
     },
     "execution_count": 13,
     "metadata": {},
     "output_type": "execute_result"
    }
   ],
   "source": [
    "# loading meta data\n",
    "path = \"../data/train\"\n",
    "output = \"../data/train_new\"\n",
    "\n",
    "meta_data = DC.generate_metadata(path, output)\n",
    "meta_data.head()\n"
   ]
  },
  {
   "cell_type": "markdown",
   "metadata": {},
   "source": [
    "## Convert Mono to Stereo"
   ]
  },
  {
   "cell_type": "code",
   "execution_count": null,
   "metadata": {},
   "outputs": [],
   "source": [
    "# adding new column for channels count\n",
    "\n",
    "meta_data= DC.channel_count(meta_data)"
   ]
  },
  {
   "cell_type": "code",
   "execution_count": null,
   "metadata": {},
   "outputs": [
    {
     "data": {
      "text/plain": [
       "400    9895\n",
       "1       980\n",
       "Name: n_channel, dtype: int64"
      ]
     },
     "execution_count": 22,
     "metadata": {},
     "output_type": "execute_result"
    }
   ],
   "source": [
    "# checking number of channels\n",
    "\n",
    "meta_data[\"n_channel\"].value_counts()"
   ]
  },
  {
   "cell_type": "markdown",
   "metadata": {},
   "source": [
    "**Observation**\n",
    "- All the loadded audio samples are mono\n",
    "- 400 is just a placeholder for missing audio files \n",
    "  because only a limited number of samples are taken for development\n",
    "  This will not be present when the data is complete."
   ]
  },
  {
   "cell_type": "code",
   "execution_count": null,
   "metadata": {},
   "outputs": [],
   "source": [
    "# Converting to stereo\n",
    "\n",
    "DC.make_stereo(meta_data)"
   ]
  },
  {
   "cell_type": "code",
   "execution_count": null,
   "metadata": {},
   "outputs": [
    {
     "data": {
      "text/plain": [
       "400    9894\n",
       "2       980\n",
       "1         1\n",
       "Name: n_channel, dtype: int64"
      ]
     },
     "execution_count": 24,
     "metadata": {},
     "output_type": "execute_result"
    }
   ],
   "source": [
    "# checking number of channels again\n",
    "\n",
    "meta_data= DC.channel_count(meta_data, True)\n",
    "meta_data[\"n_channel\"].value_counts()"
   ]
  },
  {
   "cell_type": "markdown",
   "metadata": {},
   "source": [
    "**Observation**\n",
    "- audio samples have been successfully converted to stereo\n",
    "- 400 is just a placeholder for missing audio files \n",
    "  because only a limited number of samples are taken for development\n",
    "  This will not be present when the data is complete."
   ]
  },
  {
   "cell_type": "markdown",
   "metadata": {},
   "source": [
    "## Standardize Sampling Rate"
   ]
  },
  {
   "cell_type": "markdown",
   "metadata": {},
   "source": []
  },
  {
   "cell_type": "code",
   "execution_count": null,
   "metadata": {},
   "outputs": [],
   "source": [
    "DC.standardize(meta_data)"
   ]
  },
  {
   "cell_type": "code",
   "execution_count": null,
   "metadata": {},
   "outputs": [
    {
     "data": {
      "text/plain": [
       "_wave_params(nchannels=1, sampwidth=2, framerate=16000, nframes=165888, comptype='NONE', compname='not compressed')"
      ]
     },
     "execution_count": 26,
     "metadata": {},
     "output_type": "execute_result"
    }
   ],
   "source": [
    "data =  wave.open('../data/train_new/tr_10_tr01010.wav')\n",
    "data.getparams()"
   ]
  },
  {
   "cell_type": "markdown",
   "metadata": {},
   "source": [
    "**Observation**\n",
    "- sample rates have been sucessfully standardized\n",
    "- framrate = 44100\n"
   ]
  }
 ],
 "metadata": {
  "interpreter": {
   "hash": "b302cdd1e032ee910f5c889c3360c28564c92ad4f326fc3102e39fbe47faee66"
  },
  "kernelspec": {
   "display_name": "Python 3.9.7 ('base')",
   "language": "python",
   "name": "python3"
  },
  "language_info": {
   "codemirror_mode": {
    "name": "ipython",
    "version": 3
   },
   "file_extension": ".py",
   "mimetype": "text/x-python",
   "name": "python",
   "nbconvert_exporter": "python",
   "pygments_lexer": "ipython3",
   "version": "3.9.7"
  },
  "orig_nbformat": 4
 },
 "nbformat": 4,
 "nbformat_minor": 2
}
