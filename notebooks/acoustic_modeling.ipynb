{
 "cells": [
  {
   "cell_type": "code",
   "execution_count": 1,
   "metadata": {},
   "outputs": [],
   "source": [
    "import pandas as pd\n",
    "import numpy as np\n",
    "import tensorflow as tf\n",
    "from tensorflow import keras\n",
    "from tensorflow.keras import layers\n",
    "import matplotlib.pyplot as plt\n",
    "from IPython import display\n",
    "from jiwer import wer\n",
    "import librosa\n",
    "import numpy as np\n",
    "import soundfile\n",
    "import json\n",
    "import dill\n",
    "import random\n",
    "from python_speech_features import mfcc\n",
    "import librosa\n",
    "import scipy.io.wavfile as wav\n",
    "import matplotlib.pyplot as plt\n",
    "from mpl_toolkits.axes_grid1 import make_axes_locatable\n",
    "\n",
    "from keras import backend as K\n",
    "from keras.models import Model\n",
    "from keras.layers import (BatchNormalization, Conv1D, Dense, Input, \n",
    "    TimeDistributed, Activation, Bidirectional, SimpleRNN, GRU, LSTM)\n",
    "from keras.utils.vis_utils import plot_model\n",
    "\n",
    "\n",
    "import _pickle as pickle\n",
    "from numpy.lib.stride_tricks import as_strided\n",
    "\n",
    "from keras.layers import (Input, Lambda)\n",
    "from tensorflow.keras.optimizers import SGD\n",
    "from keras.callbacks import ModelCheckpoint   \n",
    "import os\n",
    "import mlflow\n",
    "import mlflow.tensorflow"
   ]
  },
  {
   "cell_type": "code",
   "execution_count": 2,
   "metadata": {},
   "outputs": [
    {
     "name": "stdout",
     "output_type": "stream",
     "text": [
      "\n"
     ]
    }
   ],
   "source": [
    "# loading scripts\n",
    "sys.path.insert(1, '../scripts')\n",
    "sys.path.append(\"..\")\n",
    "sys.path.append(\".\")\n",
    "\n",
    "from data_cleaning import DataCleaner\n",
    "from data_viz import Data_Viz\n",
    "import acoustic_modeling as AM\n",
    "\n",
    "DC = DataCleaner(\"../logs/preprocessing_notebook.log\")\n",
    "DV = Data_Viz()\n"
   ]
  },
  {
   "cell_type": "code",
   "execution_count": 3,
   "metadata": {},
   "outputs": [],
   "source": [
    "# defining parameters\n",
    "\n",
    "MIN_BATCH_SIZE = 1\n",
    "MFCC_DIME = 13\n",
    "WINDOW = 20          # in ms\n",
    "STEP = 10            # in ms\n",
    "MAX_FREQ = 8000      # in Hz\n",
    "MODEL_NAME = \"RNN_model\"\n",
    "EPOCHS = 10\n",
    "NFFT = 1024\n",
    "EXP_NAME = \"Transcription_Tests\"\n",
    "RUN_NAME = \"run_1\""
   ]
  },
  {
   "cell_type": "code",
   "execution_count": 4,
   "metadata": {},
   "outputs": [
    {
     "name": "stdout",
     "output_type": "stream",
     "text": [
      "here\n",
      "now here\n"
     ]
    }
   ],
   "source": [
    "try:\n",
    "    experiment_id = mlflow.create_experiment(name=EXP_NAME)\n",
    "    print(\"not here\")\n",
    "except:\n",
    "    print(\"here\")\n",
    "    experiment_id = mlflow.get_experiment_by_name(name=EXP_NAME).experiment_id\n",
    "# Run name is a string that does not have to be unique\n",
    "print(\"now here\")\n",
    "mlflow_run = mlflow.start_run(experiment_id=experiment_id, run_name=RUN_NAME)"
   ]
  },
  {
   "cell_type": "code",
   "execution_count": 5,
   "metadata": {},
   "outputs": [
    {
     "name": "stdout",
     "output_type": "stream",
     "text": [
      "Size of the training set: 800\n",
      "Size of the validation set: 200\n"
     ]
    },
    {
     "data": {
      "text/html": [
       "<div>\n",
       "<style scoped>\n",
       "    .dataframe tbody tr th:only-of-type {\n",
       "        vertical-align: middle;\n",
       "    }\n",
       "\n",
       "    .dataframe tbody tr th {\n",
       "        vertical-align: top;\n",
       "    }\n",
       "\n",
       "    .dataframe thead th {\n",
       "        text-align: right;\n",
       "    }\n",
       "</style>\n",
       "<table border=\"1\" class=\"dataframe\">\n",
       "  <thead>\n",
       "    <tr style=\"text-align: right;\">\n",
       "      <th></th>\n",
       "      <th>Unnamed: 0</th>\n",
       "      <th>Target</th>\n",
       "      <th>Feature</th>\n",
       "      <th>Output</th>\n",
       "      <th>Duration</th>\n",
       "      <th>n_channel</th>\n",
       "    </tr>\n",
       "  </thead>\n",
       "  <tbody>\n",
       "    <tr>\n",
       "      <th>0</th>\n",
       "      <td>0</td>\n",
       "      <td>የኤርትራ ወታደሮች ኢትዮጵያውያኑ ን ቀር ባ እንዳ ታይ ና እንዳታ ነጋገር...</td>\n",
       "      <td>../data/train/wav/tr_1025_tr11026.wav</td>\n",
       "      <td>../data/train_new/tr_1025_tr11026.wav</td>\n",
       "      <td>9.977324</td>\n",
       "      <td>2</td>\n",
       "    </tr>\n",
       "    <tr>\n",
       "      <th>1</th>\n",
       "      <td>1</td>\n",
       "      <td>በ ላቸው ም ነው እንዲ ህ ተ ንቆ ለ ጳ ጰ ሰ</td>\n",
       "      <td>../data/train/wav/tr_10602_tr04116.wav</td>\n",
       "      <td>../data/train_new/tr_10602_tr04116.wav</td>\n",
       "      <td>9.977324</td>\n",
       "      <td>2</td>\n",
       "    </tr>\n",
       "    <tr>\n",
       "      <th>2</th>\n",
       "      <td>2</td>\n",
       "      <td>ጣት ሽን አን ቋ ቂው ም አታንቋቂ ውም ማ ንም አላ የ ሽም</td>\n",
       "      <td>../data/train/wav/tr_10722_tr03139.wav</td>\n",
       "      <td>../data/train_new/tr_10722_tr03139.wav</td>\n",
       "      <td>9.977324</td>\n",
       "      <td>2</td>\n",
       "    </tr>\n",
       "    <tr>\n",
       "      <th>3</th>\n",
       "      <td>3</td>\n",
       "      <td>ባለሙያዎቹ በ ተጨማሪ ም እነዚህ ዲ ቃሎች የ ኢኮሎጂ መዛባት ሊያ ስከትሉ...</td>\n",
       "      <td>../data/train/wav/tr_10171_tr099013.wav</td>\n",
       "      <td>../data/train_new/tr_10171_tr099013.wav</td>\n",
       "      <td>9.977324</td>\n",
       "      <td>2</td>\n",
       "    </tr>\n",
       "    <tr>\n",
       "      <th>4</th>\n",
       "      <td>4</td>\n",
       "      <td>አ በ በ ለ ዶክተሩ ሁለመና ዬን ነው የሚያመ ኝ ብሎ ነገረው</td>\n",
       "      <td>../data/train/wav/tr_10800_tr02123.wav</td>\n",
       "      <td>../data/train_new/tr_10800_tr02123.wav</td>\n",
       "      <td>9.977324</td>\n",
       "      <td>2</td>\n",
       "    </tr>\n",
       "  </tbody>\n",
       "</table>\n",
       "</div>"
      ],
      "text/plain": [
       "   Unnamed: 0                                             Target  \\\n",
       "0           0  የኤርትራ ወታደሮች ኢትዮጵያውያኑ ን ቀር ባ እንዳ ታይ ና እንዳታ ነጋገር...   \n",
       "1           1                      በ ላቸው ም ነው እንዲ ህ ተ ንቆ ለ ጳ ጰ ሰ   \n",
       "2           2              ጣት ሽን አን ቋ ቂው ም አታንቋቂ ውም ማ ንም አላ የ ሽም   \n",
       "3           3  ባለሙያዎቹ በ ተጨማሪ ም እነዚህ ዲ ቃሎች የ ኢኮሎጂ መዛባት ሊያ ስከትሉ...   \n",
       "4           4             አ በ በ ለ ዶክተሩ ሁለመና ዬን ነው የሚያመ ኝ ብሎ ነገረው   \n",
       "\n",
       "                                   Feature  \\\n",
       "0    ../data/train/wav/tr_1025_tr11026.wav   \n",
       "1   ../data/train/wav/tr_10602_tr04116.wav   \n",
       "2   ../data/train/wav/tr_10722_tr03139.wav   \n",
       "3  ../data/train/wav/tr_10171_tr099013.wav   \n",
       "4   ../data/train/wav/tr_10800_tr02123.wav   \n",
       "\n",
       "                                    Output  Duration  n_channel  \n",
       "0    ../data/train_new/tr_1025_tr11026.wav  9.977324          2  \n",
       "1   ../data/train_new/tr_10602_tr04116.wav  9.977324          2  \n",
       "2   ../data/train_new/tr_10722_tr03139.wav  9.977324          2  \n",
       "3  ../data/train_new/tr_10171_tr099013.wav  9.977324          2  \n",
       "4   ../data/train_new/tr_10800_tr02123.wav  9.977324          2  "
      ]
     },
     "execution_count": 5,
     "metadata": {},
     "output_type": "execute_result"
    }
   ],
   "source": [
    "# loading meta data\n",
    "\n",
    "train_meta = DC.meta_loader(\"../data/train_meta.csv\", \"csv\")\n",
    "valid_meta = DC.meta_loader(\"../data/test_meta.csv\", \"csv\")\n",
    "\n",
    "print(f\"Size of the training set: {len(train_meta)}\")\n",
    "print(f\"Size of the validation set: {len(valid_meta)}\")\n",
    "train_meta.head()"
   ]
  },
  {
   "cell_type": "code",
   "execution_count": 6,
   "metadata": {},
   "outputs": [],
   "source": [
    "# replace redundant letters\n",
    "\n",
    "train_meta[\"Target\"] = train_meta[\"Target\"].apply(lambda x: AM.replacer(x))\n",
    "valid_meta[\"Target\"] = valid_meta[\"Target\"].apply(lambda x: AM.replacer(x))\n"
   ]
  },
  {
   "cell_type": "code",
   "execution_count": 7,
   "metadata": {},
   "outputs": [],
   "source": [
    "audio_gen = AM.AudioGenerator(train_meta, valid_meta, minibatch_size=MIN_BATCH_SIZE,\n",
    "                       window=WINDOW, step=STEP, max_freq=MAX_FREQ,\n",
    "                       mfcc_dim=MFCC_DIME, nfft=NFFT)\n",
    "\n",
    "audio_gen.load_train_data()\n",
    "audio_gen.load_validation_data()"
   ]
  },
  {
   "cell_type": "code",
   "execution_count": 8,
   "metadata": {},
   "outputs": [
    {
     "name": "stdout",
     "output_type": "stream",
     "text": [
      "Model: \"model\"\n",
      "_________________________________________________________________\n",
      "Layer (type)                 Output Shape              Param #   \n",
      "=================================================================\n",
      "the_input (InputLayer)       [(None, None, 13)]        0         \n",
      "_________________________________________________________________\n",
      "rnn (GRU)                    (None, None, 5)           300       \n",
      "_________________________________________________________________\n",
      "batch_normalization (BatchNo (None, None, 5)           20        \n",
      "_________________________________________________________________\n",
      "time_distributed (TimeDistri (None, None, 223)         1338      \n",
      "_________________________________________________________________\n",
      "softmax (Activation)         (None, None, 223)         0         \n",
      "=================================================================\n",
      "Total params: 1,658\n",
      "Trainable params: 1,648\n",
      "Non-trainable params: 10\n",
      "_________________________________________________________________\n",
      "None\n"
     ]
    }
   ],
   "source": [
    "model = AM.model_1(input_dim=13,\n",
    "                units=5,\n",
    "                activation='relu',\n",
    "                output_dim=len(AM.char_map)+1)"
   ]
  },
  {
   "cell_type": "code",
   "execution_count": 9,
   "metadata": {},
   "outputs": [
    {
     "name": "stdout",
     "output_type": "stream",
     "text": [
      "Epoch 1/10\n"
     ]
    }
   ],
   "source": [
    "\n",
    "# training the model.\n",
    "AM.train(audio_gen, input_to_softmax=model, model_name=MODEL_NAME, epochs=EPOCHS, minibatch_size=MIN_BATCH_SIZE, verbose=2)\n",
    "\n",
    "    "
   ]
  },
  {
   "cell_type": "code",
   "execution_count": null,
   "metadata": {},
   "outputs": [],
   "source": [
    "# pickling the model\n",
    "# save model loss\n",
    "\n",
    "with open(filename, 'wb') as f:\n",
    "    dill.dump(model, f)"
   ]
  },
  {
   "cell_type": "code",
   "execution_count": null,
   "metadata": {},
   "outputs": [],
   "source": [
    "loaded_model = dill.load(open(filename, 'rb'))"
   ]
  },
  {
   "cell_type": "code",
   "execution_count": null,
   "metadata": {},
   "outputs": [],
   "source": [
    "WER = AM.predict(audio_gen,14, 'train', loaded_model)\n",
    "#raw_pred_char = np.vstack([sorted(AM.char_map.keys(), key=lambda k: AM.char_map[k]) + ['BLANK'], raw_pred])"
   ]
  },
  {
   "cell_type": "code",
   "execution_count": null,
   "metadata": {},
   "outputs": [],
   "source": [
    "# tracking the experiment\n",
    "with mlflow_run:\n",
    "    mlflow.log_param(\"Epochs\", EPOCHS)\n",
    "    mlflow.log_param(\"Batch_Size\", MIN_BATCH_SIZE)\n",
    "    mlflow.log_metric(\"WER\", WER)"
   ]
  }
 ],
 "metadata": {
  "interpreter": {
   "hash": "2b997b5b8794c030e25a28be498e8226ee8897df85ede9190db777bdc9cc75be"
  },
  "kernelspec": {
   "display_name": "Python 3.9.7 ('base')",
   "language": "python",
   "name": "python3"
  },
  "language_info": {
   "codemirror_mode": {
    "name": "ipython",
    "version": 3
   },
   "file_extension": ".py",
   "mimetype": "text/x-python",
   "name": "python",
   "nbconvert_exporter": "python",
   "pygments_lexer": "ipython3",
   "version": "3.9.7"
  },
  "orig_nbformat": 4
 },
 "nbformat": 4,
 "nbformat_minor": 2
}
