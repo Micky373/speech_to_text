{
 "cells": [
  {
   "cell_type": "code",
   "execution_count": 1,
   "metadata": {},
   "outputs": [],
   "source": [
    "import pandas as pd\n",
    "import numpy as np\n",
    "import tensorflow as tf\n",
    "from tensorflow import keras\n",
    "from tensorflow.keras import layers\n",
    "import matplotlib.pyplot as plt\n",
    "from IPython import display\n",
    "from jiwer import wer\n",
    "import librosa\n",
    "import numpy as np\n",
    "import soundfile\n",
    "import json\n",
    "\n",
    "import random\n",
    "from python_speech_features import mfcc\n",
    "import librosa\n",
    "import scipy.io.wavfile as wav\n",
    "import matplotlib.pyplot as plt\n",
    "from mpl_toolkits.axes_grid1 import make_axes_locatable\n",
    "\n",
    "from keras import backend as K\n",
    "from keras.models import Model\n",
    "from keras.layers import (BatchNormalization, Conv1D, Dense, Input, \n",
    "    TimeDistributed, Activation, Bidirectional, SimpleRNN, GRU, LSTM)\n",
    "from keras.utils.vis_utils import plot_model\n",
    "\n",
    "\n",
    "import _pickle as pickle\n",
    "from numpy.lib.stride_tricks import as_strided\n",
    "\n",
    "from keras.layers import (Input, Lambda)\n",
    "from tensorflow.keras.optimizers import SGD\n",
    "from keras.callbacks import ModelCheckpoint   \n",
    "import os"
   ]
  },
  {
   "cell_type": "code",
   "execution_count": 2,
   "metadata": {},
   "outputs": [
    {
     "name": "stdout",
     "output_type": "stream",
     "text": [
      "\n"
     ]
    }
   ],
   "source": [
    "# loading scripts\n",
    "sys.path.insert(1, '../scripts')\n",
    "sys.path.append(\"..\")\n",
    "sys.path.append(\".\")\n",
    "\n",
    "from data_cleaning import DataCleaner\n",
    "from data_viz import Data_Viz\n",
    "import acoustic_modeling as AM\n",
    "\n",
    "DC = DataCleaner(\"../logs/preprocessing_notebook.log\")\n",
    "DV = Data_Viz()\n"
   ]
  },
  {
   "cell_type": "code",
   "execution_count": 3,
   "metadata": {},
   "outputs": [],
   "source": [
    "# defining parameters\n",
    "\n",
    "MIN_BATCH_SIZE = 40\n",
    "MFCC_DIME = 13\n",
    "WINDOW = 20          # in ms\n",
    "STEP = 10            # in ms\n",
    "MAX_FREQ = 8000      # in Hz\n",
    "MODEL_NAME = \"RNN_model\"\n",
    "EPOCHS = 50"
   ]
  },
  {
   "cell_type": "code",
   "execution_count": 4,
   "metadata": {},
   "outputs": [
    {
     "name": "stdout",
     "output_type": "stream",
     "text": [
      "Size of the training set: 800\n",
      "Size of the validation set: 200\n"
     ]
    }
   ],
   "source": [
    "# loading meta data\n",
    "\n",
    "train_meta = DC.meta_loader(\"../data/train_meta.csv\", \"csv\")\n",
    "valid_meta = DC.meta_loader(\"../data/test_meta.csv\", \"csv\")\n",
    "\n",
    "print(f\"Size of the training set: {len(train_meta)}\")\n",
    "print(f\"Size of the validation set: {len(valid_meta)}\")"
   ]
  },
  {
   "cell_type": "code",
   "execution_count": 5,
   "metadata": {},
   "outputs": [],
   "source": [
    "# replace redundant letters\n",
    "\n",
    "train_meta[\"Target\"] = train_meta[\"Target\"].apply(lambda x: AM.replacer(x))\n",
    "valid_meta[\"Target\"] = valid_meta[\"Target\"].apply(lambda x: AM.replacer(x))\n"
   ]
  },
  {
   "cell_type": "code",
   "execution_count": 6,
   "metadata": {},
   "outputs": [],
   "source": [
    "audio_gen = AM.AudioGenerator(train_meta, valid_meta, minibatch_size=MIN_BATCH_SIZE,\n",
    "                       window=WINDOW, step=STEP, max_freq=MAX_FREQ,\n",
    "                       mfcc_dim=MFCC_DIME)\n",
    "\n",
    "audio_gen.load_train_data()\n",
    "audio_gen.load_validation_data()"
   ]
  },
  {
   "cell_type": "code",
   "execution_count": 7,
   "metadata": {},
   "outputs": [
    {
     "name": "stdout",
     "output_type": "stream",
     "text": [
      "Model: \"model\"\n",
      "_________________________________________________________________\n",
      "Layer (type)                 Output Shape              Param #   \n",
      "=================================================================\n",
      "the_input (InputLayer)       [(None, None, 13)]        0         \n",
      "_________________________________________________________________\n",
      "rnn (GRU)                    (None, None, 5)           300       \n",
      "_________________________________________________________________\n",
      "batch_normalization (BatchNo (None, None, 5)           20        \n",
      "_________________________________________________________________\n",
      "time_distributed (TimeDistri (None, None, 223)         1338      \n",
      "_________________________________________________________________\n",
      "softmax (Activation)         (None, None, 223)         0         \n",
      "=================================================================\n",
      "Total params: 1,658\n",
      "Trainable params: 1,648\n",
      "Non-trainable params: 10\n",
      "_________________________________________________________________\n",
      "None\n"
     ]
    }
   ],
   "source": [
    "model = AM.model_1(input_dim=13,\n",
    "                units=5,\n",
    "                activation='relu',\n",
    "                output_dim=len(AM.char_map)+1)"
   ]
  },
  {
   "cell_type": "code",
   "execution_count": 8,
   "metadata": {},
   "outputs": [
    {
     "name": "stdout",
     "output_type": "stream",
     "text": [
      "Epoch 1/50\n",
      "20/20 - 268s - loss: 10031.3916 - val_loss: 10067.7979\n",
      "Epoch 2/50\n",
      "20/20 - 211s - loss: 9788.7871 - val_loss: 9837.4434\n",
      "Epoch 3/50\n",
      "20/20 - 195s - loss: 9504.2236 - val_loss: 9541.1230\n",
      "Epoch 4/50\n",
      "20/20 - 190s - loss: 9181.6250 - val_loss: 9208.2998\n",
      "Epoch 5/50\n",
      "20/20 - 189s - loss: 8815.4062 - val_loss: 8777.6055\n",
      "Epoch 6/50\n",
      "20/20 - 188s - loss: 8405.6279 - val_loss: 8237.0898\n",
      "Epoch 7/50\n",
      "20/20 - 189s - loss: 7929.9326 - val_loss: 7596.1973\n",
      "Epoch 8/50\n",
      "20/20 - 189s - loss: 7429.4780 - val_loss: 7028.2588\n",
      "Epoch 9/50\n",
      "20/20 - 188s - loss: 6903.9346 - val_loss: 6456.1636\n",
      "Epoch 10/50\n",
      "20/20 - 189s - loss: 6367.2158 - val_loss: 5855.8735\n",
      "Epoch 11/50\n",
      "20/20 - 188s - loss: 5803.6587 - val_loss: 5219.4839\n",
      "Epoch 12/50\n",
      "20/20 - 189s - loss: 5235.6733 - val_loss: 4675.0933\n",
      "Epoch 13/50\n",
      "20/20 - 190s - loss: 4713.3882 - val_loss: 4161.4941\n",
      "Epoch 14/50\n",
      "20/20 - 189s - loss: 4231.5278 - val_loss: 3607.8831\n",
      "Epoch 15/50\n",
      "20/20 - 189s - loss: 3796.4541 - val_loss: 3330.9231\n",
      "Epoch 16/50\n",
      "20/20 - 189s - loss: 3426.6143 - val_loss: 2988.2288\n",
      "Epoch 17/50\n",
      "20/20 - 189s - loss: 3075.6316 - val_loss: 2673.9395\n",
      "Epoch 18/50\n",
      "20/20 - 188s - loss: 2792.4875 - val_loss: 2373.6274\n",
      "Epoch 19/50\n",
      "20/20 - 188s - loss: 2467.2488 - val_loss: 2257.0200\n",
      "Epoch 20/50\n",
      "20/20 - 189s - loss: 2259.6602 - val_loss: 2170.4326\n",
      "Epoch 21/50\n",
      "20/20 - 189s - loss: 2086.2629 - val_loss: 2016.9009\n",
      "Epoch 22/50\n",
      "20/20 - 189s - loss: 2026.9672 - val_loss: 1766.5044\n",
      "Epoch 23/50\n",
      "20/20 - 188s - loss: 1927.4792 - val_loss: 1863.5016\n",
      "Epoch 24/50\n",
      "20/20 - 188s - loss: 1828.6765 - val_loss: 1792.9022\n",
      "Epoch 25/50\n",
      "20/20 - 188s - loss: 1857.9274 - val_loss: 1822.7438\n",
      "Epoch 26/50\n",
      "20/20 - 189s - loss: 1726.2366 - val_loss: 1799.8601\n",
      "Epoch 27/50\n",
      "20/20 - 189s - loss: 1791.8560 - val_loss: 1848.7069\n",
      "Epoch 28/50\n",
      "20/20 - 190s - loss: 1698.4797 - val_loss: 1764.7937\n",
      "Epoch 29/50\n",
      "20/20 - 189s - loss: 1761.8516 - val_loss: 1768.0582\n",
      "Epoch 30/50\n",
      "20/20 - 189s - loss: 1618.2150 - val_loss: 1727.4984\n",
      "Epoch 31/50\n",
      "20/20 - 189s - loss: 1699.9723 - val_loss: 1739.1104\n",
      "Epoch 32/50\n",
      "20/20 - 190s - loss: 1609.3019 - val_loss: 1795.3342\n",
      "Epoch 33/50\n",
      "20/20 - 189s - loss: 1607.7059 - val_loss: 1681.2590\n",
      "Epoch 34/50\n",
      "20/20 - 188s - loss: 1645.6190 - val_loss: 1698.6863\n",
      "Epoch 35/50\n",
      "20/20 - 188s - loss: 1544.7111 - val_loss: 1550.4452\n",
      "Epoch 36/50\n",
      "20/20 - 191s - loss: 1536.0741 - val_loss: 1669.3796\n",
      "Epoch 37/50\n",
      "20/20 - 187s - loss: 1541.2205 - val_loss: 1602.3079\n",
      "Epoch 38/50\n",
      "20/20 - 187s - loss: 1489.8247 - val_loss: 1587.2477\n",
      "Epoch 39/50\n",
      "20/20 - 190s - loss: 1505.5955 - val_loss: 1606.7278\n",
      "Epoch 40/50\n",
      "20/20 - 188s - loss: 1509.1488 - val_loss: 1676.6785\n",
      "Epoch 41/50\n",
      "20/20 - 189s - loss: 1467.5186 - val_loss: 1561.8824\n",
      "Epoch 42/50\n",
      "20/20 - 188s - loss: 1500.9854 - val_loss: 1548.9954\n",
      "Epoch 43/50\n",
      "20/20 - 188s - loss: 1515.7725 - val_loss: 1624.1140\n",
      "Epoch 44/50\n",
      "20/20 - 188s - loss: 1458.1578 - val_loss: 1524.7025\n",
      "Epoch 45/50\n",
      "20/20 - 188s - loss: 1472.3856 - val_loss: 1513.2100\n",
      "Epoch 46/50\n",
      "20/20 - 189s - loss: 1487.0468 - val_loss: 1518.0513\n",
      "Epoch 47/50\n",
      "20/20 - 188s - loss: 1402.0822 - val_loss: 1493.1499\n",
      "Epoch 48/50\n",
      "20/20 - 188s - loss: 1448.3219 - val_loss: 1627.6578\n",
      "Epoch 49/50\n",
      "20/20 - 188s - loss: 1415.8531 - val_loss: 1585.0337\n",
      "Epoch 50/50\n",
      "20/20 - 188s - loss: 1453.0140 - val_loss: 1478.1039\n"
     ]
    }
   ],
   "source": [
    "AM.train(audio_gen, input_to_softmax=model, model_name=MODEL_NAME, epochs=EPOCHS, minibatch_size=MIN_BATCH_SIZE)"
   ]
  },
  {
   "cell_type": "code",
   "execution_count": 9,
   "metadata": {},
   "outputs": [
    {
     "name": "stdout",
     "output_type": "stream",
     "text": [
      "Truth: ለ መሆኑ የ ቁንጅና መለኪያ ው ምንድነው\n",
      "Predicted: ሀዎሀዎሀዎኡዎኡዎሶዎሶዎሶዎሶዎሶዎሶዎሶዎሶዎሶዎሶዎሶዎሶዎሶዎሶዎሶዎሶዎሶዎሶዎሶዎሶዎሶዎሶዎሶዎሶዎሶዎሶዎሶዎሶዎሶዎሶዎሶዎሶዎሶዎሶዎሶዎሶዎሶዎሶዎሶዎሶዎሶዎሶዎሶዎሶዎሶዎሶዎሶዎሶዎሶዎሶዎሶዎሶዎሶዎሶዎሶዎሶዎሶዎሶዎሶዎሶዎሶዎሶዎሶዎሶዎሶዎሶዎሶዎሶዎሶዎሶዎሶዎሶዎሶዎሶዎሶዎሶዎሶዎሶዎሶዎሶዎሶዎሶዎሶዎሶዎሶዎሶዎሶዎሶዎሶዎሶዎሶዎሶዎሶዎሶዎሶዎሶዎሶዎሶዎሶዎሶዎሶዎሶዎሶዎሶዎሶዎሶዎሶዎሶዎሶዎሶዎሶዎሶዎሀ\n",
      "wer: 235\n"
     ]
    }
   ],
   "source": [
    "AM.predict(audio_gen,14, 'train', model)\n",
    "_,_,_,raw_pred = AM.predict_raw(audio_gen,14, 'train', model)\n",
    "#raw_pred_char = np.vstack([sorted(AM.char_map.keys(), key=lambda k: AM.char_map[k]) + ['BLANK'], raw_pred])"
   ]
  },
  {
   "cell_type": "code",
   "execution_count": null,
   "metadata": {},
   "outputs": [],
   "source": []
  }
 ],
 "metadata": {
  "interpreter": {
   "hash": "2b997b5b8794c030e25a28be498e8226ee8897df85ede9190db777bdc9cc75be"
  },
  "kernelspec": {
   "display_name": "Python 3.9.7 ('base')",
   "language": "python",
   "name": "python3"
  },
  "language_info": {
   "codemirror_mode": {
    "name": "ipython",
    "version": 3
   },
   "file_extension": ".py",
   "mimetype": "text/x-python",
   "name": "python",
   "nbconvert_exporter": "python",
   "pygments_lexer": "ipython3",
   "version": "3.9.7"
  },
  "orig_nbformat": 4
 },
 "nbformat": 4,
 "nbformat_minor": 2
}
