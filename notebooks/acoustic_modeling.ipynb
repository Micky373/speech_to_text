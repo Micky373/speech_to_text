{
 "cells": [
  {
   "cell_type": "code",
   "execution_count": 15,
   "metadata": {},
   "outputs": [],
   "source": [
    "import pandas as pd\n",
    "import numpy as np\n",
    "import tensorflow as tf\n",
    "from tensorflow import keras\n",
    "from tensorflow.keras import layers\n",
    "import matplotlib.pyplot as plt\n",
    "from IPython import display\n",
    "from jiwer import wer\n",
    "import librosa\n",
    "import numpy as np\n",
    "import soundfile\n",
    "import json\n",
    "\n",
    "import random\n",
    "from python_speech_features import mfcc\n",
    "import librosa\n",
    "import scipy.io.wavfile as wav\n",
    "import matplotlib.pyplot as plt\n",
    "from mpl_toolkits.axes_grid1 import make_axes_locatable\n",
    "\n",
    "from keras import backend as K\n",
    "from keras.models import Model\n",
    "from keras.layers import (BatchNormalization, Conv1D, Dense, Input, \n",
    "    TimeDistributed, Activation, Bidirectional, SimpleRNN, GRU, LSTM)\n",
    "from keras.utils.vis_utils import plot_model\n",
    "\n",
    "\n",
    "import _pickle as pickle\n",
    "from numpy.lib.stride_tricks import as_strided\n",
    "\n",
    "from keras.layers import (Input, Lambda)\n",
    "from tensorflow.keras.optimizers import SGD\n",
    "from keras.callbacks import ModelCheckpoint   \n",
    "import os"
   ]
  },
  {
   "cell_type": "code",
   "execution_count": 16,
   "metadata": {},
   "outputs": [],
   "source": [
    "# loading scripts\n",
    "sys.path.insert(1, '../scripts')\n",
    "sys.path.append(\"..\")\n",
    "sys.path.append(\".\")\n",
    "\n",
    "from data_cleaning import DataCleaner\n",
    "from data_viz import Data_Viz\n",
    "import acoustic_modeling as AM\n",
    "\n",
    "DC = DataCleaner(\"../logs/preprocessing_notebook.log\")\n",
    "DV = Data_Viz()\n"
   ]
  },
  {
   "cell_type": "code",
   "execution_count": 17,
   "metadata": {},
   "outputs": [],
   "source": [
    "# defining parameters\n",
    "\n",
    "MIN_BATCH_SIZE = 20\n",
    "MFCC_DIME = 13\n",
    "WINDOW = 20          # in ms\n",
    "STEP = 10            # in ms\n",
    "MAX_FREQ = 8000      # in Hz\n",
    "MODEL_NAME = \"RNN_model\"\n",
    "EPOCHS = 5"
   ]
  },
  {
   "cell_type": "code",
   "execution_count": 18,
   "metadata": {},
   "outputs": [
    {
     "name": "stdout",
     "output_type": "stream",
     "text": [
      "Size of the training set: 800\n",
      "Size of the validation set: 200\n"
     ]
    }
   ],
   "source": [
    "# loading meta data\n",
    "\n",
    "train_meta = DC.meta_loader(\"../data/train_meta.csv\", \"csv\")\n",
    "valid_meta = DC.meta_loader(\"../data/test_meta.csv\", \"csv\")\n",
    "\n",
    "print(f\"Size of the training set: {len(train_meta)}\")\n",
    "print(f\"Size of the validation set: {len(valid_meta)}\")"
   ]
  },
  {
   "cell_type": "code",
   "execution_count": 19,
   "metadata": {},
   "outputs": [],
   "source": [
    "# replace redundant letters\n",
    "\n",
    "train_meta[\"Target\"] = train_meta[\"Target\"].apply(lambda x: AM.replacer(x))\n",
    "valid_meta[\"Target\"] = valid_meta[\"Target\"].apply(lambda x: AM.replacer(x))\n"
   ]
  },
  {
   "cell_type": "code",
   "execution_count": 20,
   "metadata": {},
   "outputs": [],
   "source": [
    "audio_gen = AM.AudioGenerator(train_meta, valid_meta, minibatch_size=MIN_BATCH_SIZE,\n",
    "                       window=WINDOW, step=STEP, max_freq=MAX_FREQ,\n",
    "                       mfcc_dim=MFCC_DIME)\n",
    "\n",
    "audio_gen.load_train_data()\n",
    "audio_gen.load_validation_data()"
   ]
  },
  {
   "cell_type": "code",
   "execution_count": 21,
   "metadata": {},
   "outputs": [
    {
     "name": "stdout",
     "output_type": "stream",
     "text": [
      "Model: \"model_2\"\n",
      "_________________________________________________________________\n",
      "Layer (type)                 Output Shape              Param #   \n",
      "=================================================================\n",
      "the_input (InputLayer)       [(None, None, 13)]        0         \n",
      "_________________________________________________________________\n",
      "rnn (GRU)                    (None, None, 5)           300       \n",
      "_________________________________________________________________\n",
      "batch_normalization_1 (Batch (None, None, 5)           20        \n",
      "_________________________________________________________________\n",
      "time_distributed_1 (TimeDist (None, None, 223)         1338      \n",
      "_________________________________________________________________\n",
      "softmax (Activation)         (None, None, 223)         0         \n",
      "=================================================================\n",
      "Total params: 1,658\n",
      "Trainable params: 1,648\n",
      "Non-trainable params: 10\n",
      "_________________________________________________________________\n",
      "None\n"
     ]
    }
   ],
   "source": [
    "model = AM.model_1(input_dim=13,\n",
    "                units=5,\n",
    "                activation='relu',\n",
    "                output_dim=len(AM.char_map)+1)"
   ]
  },
  {
   "cell_type": "code",
   "execution_count": 22,
   "metadata": {},
   "outputs": [
    {
     "name": "stdout",
     "output_type": "stream",
     "text": [
      "Epoch 1/5\n",
      "40/40 - 273s - loss: 9914.3125 - val_loss: 9820.0371\n",
      "Epoch 2/5\n",
      "40/40 - 227s - loss: 9334.2529 - val_loss: 9163.5469\n",
      "Epoch 3/5\n",
      "40/40 - 222s - loss: 8526.9434 - val_loss: 8111.6938\n",
      "Epoch 4/5\n",
      "40/40 - 220s - loss: 7464.6177 - val_loss: 6501.9727\n",
      "Epoch 5/5\n",
      "40/40 - 218s - loss: 6256.3687 - val_loss: 5185.6133\n"
     ]
    }
   ],
   "source": [
    "AM.train(audio_gen, input_to_softmax=model, model_name=MODEL_NAME, epochs=EPOCHS, minibatch_size=MIN_BATCH_SIZE)"
   ]
  },
  {
   "cell_type": "code",
   "execution_count": 25,
   "metadata": {},
   "outputs": [
    {
     "name": "stdout",
     "output_type": "stream",
     "text": [
      "Truth: አንቺ ልጅ ያ የ ሽውን ነገር ሁሉ ለ ማግኘት አት ጓጉ\n",
      "Predicted: ሀዩኡዩኡዩኡዩኡዩኡዩኡዩኡዩኡዩኡዩኡዩኡዩኡዩኡዩኡዩኡዩኡዩኡዩኡዩኡዩኡዩኡዩኡዩኡዩኡዩኡዩኡዩኡዩኡዩኡዩኡዩኡዩኡዩኡዩኡኖኡኖኡቶዎቶጆኖኡኖረኖፆዢፆፑኖኛሱቶሱሞሀቦሀቦሀቦሀቦሀቦሀቦሀቦሀቦሀቦሀቦሀቦሀቦሀቦሀቦሀቦሀቦሀቦሀቦሀቦሀቦሀቦሀቦሀቦሀቦሀቦሀቦሀቦሀቦሀቦሀቦሀቦሀቦሀቦሀቦሀቦሀቦሀቦሀቦሀቦሀቦሀቦሀቦሀቦሀቦሀቦሀቦሀቦሀቦሀቦሀቦሀቦሀቦሀቦሀቦሀቦሀቦሀቦሀቦሀቦሀቦሀቦሀቦሀቦሀቦሀቦሀቦሀቦሀቦሀቦሀቦሀቦሀቦሀቦሀቦሀቦሀቦሀቦሀቦሀቦሀቦሀቦሀቦሀቦሀቦሀቦሀቦሀቦሀቦሀቦሀቦሀቦሀቦሀቦሀቦሀቦሀቦሀቦሀቦሀቦሀቦሀቦሀቦሀቦሀቦሀቦሀቦሀቦሀቦሀቦሀቦሀቦሀቦሀቦሀቦሀቦሀቦሀቦሀቦሀቦሀቦሀቦሀቦሀቦሀቦሀቦሀቦሀቦሀቦሀቦሀቦሀቦሀቦሀቦሀቦሀቦሀቦሀቦሀቦሀቦሀቦሀቦሀቦሀቦሀቦሀቦሀቦሀቦሀቦሀቦሀቦሀቦሀቦሀቦሀቦሀቦሀቦሀቦሀቦሀቦሀቦሀቦሀቦሀቦሀቦሀቦሀቦሀቦሀቦሀቦሀቦሀቦሀቦሀቦሀቦሀቦሀቦሀቦሀቦሀቦሀቦሀቦሀቦሀቦሀቦሀቦሀቦሀቦሀቦሀቦሀቦሀቦሀቦሀቦሀቦሀቦሀቦሀቦሀቦሀቦሀቦሀቦሀቦሀቦሀቦሀቦሀቦሀቦሀቦሀቦሀቦሀቦሀቦሀቦሀቦሀቦሀቦሀቦሀቦሀቦሀቦሀቦሀቦሀቦሀቦሀቦሀ\n",
      "wer: 34\n"
     ]
    }
   ],
   "source": [
    "AM.predict(audio_gen,14, 'train', model)\n",
    "_,_,_,raw_pred = AM.predict_raw(audio_gen,14, 'train', model)\n",
    "#raw_pred_char = np.vstack([sorted(AM.char_map.keys(), key=lambda k: AM.char_map[k]) + ['BLANK'], raw_pred])"
   ]
  },
  {
   "cell_type": "code",
   "execution_count": null,
   "metadata": {},
   "outputs": [],
   "source": []
  }
 ],
 "metadata": {
  "interpreter": {
   "hash": "2b997b5b8794c030e25a28be498e8226ee8897df85ede9190db777bdc9cc75be"
  },
  "kernelspec": {
   "display_name": "Python 3.9.7 ('base')",
   "language": "python",
   "name": "python3"
  },
  "language_info": {
   "codemirror_mode": {
    "name": "ipython",
    "version": 3
   },
   "file_extension": ".py",
   "mimetype": "text/x-python",
   "name": "python",
   "nbconvert_exporter": "python",
   "pygments_lexer": "ipython3",
   "version": "3.9.7"
  },
  "orig_nbformat": 4
 },
 "nbformat": 4,
 "nbformat_minor": 2
}
