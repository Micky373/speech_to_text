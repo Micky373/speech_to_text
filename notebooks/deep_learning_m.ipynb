{
 "cells": [
  {
   "cell_type": "code",
   "execution_count": 1,
   "id": "eebe1ea9-4553-4c6a-9d00-462c5fd9c231",
   "metadata": {},
   "outputs": [],
   "source": [
    "# Importing libraries\n",
    "\n",
    "import pandas as pd\n",
    "import os\n",
    "import shutil\n",
    "import sys"
   ]
  },
  {
   "cell_type": "code",
   "execution_count": 2,
   "id": "2a51c2a0",
   "metadata": {},
   "outputs": [],
   "source": [
    "# loading scripts\n",
    "sys.path.insert(1, '../scripts')\n",
    "sys.path.append(\"..\")\n",
    "sys.path.append(\".\")\n",
    "\n",
    "from data_cleaning import DataCleaner\n",
    "from deep_learning_m import Separating\n",
    "\n",
    "DC = DataCleaner(\"../logs/preprocessing_notebook.log\")"
   ]
  },
  {
   "cell_type": "code",
   "execution_count": 3,
   "id": "8e72ca17",
   "metadata": {},
   "outputs": [],
   "source": [
    "source_folder = \"../data/train_new/\"\n",
    "destination_folder_train = '../data/train_model/'\n",
    "destination_folder_valid = '../data/valid_model/'\n",
    "\n",
    "Separating.train_valid(source_folder,destination_folder_train,destination_folder_valid)"
   ]
  },
  {
   "cell_type": "code",
   "execution_count": null,
   "id": "decbb4a5",
   "metadata": {},
   "outputs": [],
   "source": [
    "len(os.listdir('../data/train_model')),len(os.listdir('../data/valid_model'))"
   ]
  },
  {
   "cell_type": "code",
   "execution_count": null,
   "id": "11d7cc92",
   "metadata": {},
   "outputs": [],
   "source": []
  }
 ],
 "metadata": {
  "interpreter": {
   "hash": "8db758ad8c7bf89e0e05ff83b05117f8f69a41b0c4c743ef06d8074f849b7b0c"
  },
  "kernelspec": {
   "display_name": "Python 3.9.12 ('week4')",
   "language": "python",
   "name": "python3"
  },
  "language_info": {
   "codemirror_mode": {
    "name": "ipython",
    "version": 3
   },
   "file_extension": ".py",
   "mimetype": "text/x-python",
   "name": "python",
   "nbconvert_exporter": "python",
   "pygments_lexer": "ipython3",
   "version": "3.9.12"
  }
 },
 "nbformat": 4,
 "nbformat_minor": 5
}
