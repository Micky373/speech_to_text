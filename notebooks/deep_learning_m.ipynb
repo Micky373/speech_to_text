{
 "cells": [
  {
   "cell_type": "code",
   "execution_count": null,
   "id": "eebe1ea9-4553-4c6a-9d00-462c5fd9c231",
   "metadata": {},
   "outputs": [],
   "source": [
    "# Importing libraries\n",
    "\n",
    "import pandas as pd\n",
    "import os\n",
    "import shutil"
   ]
  },
  {
   "cell_type": "code",
   "execution_count": 14,
   "id": "8e72ca17",
   "metadata": {},
   "outputs": [],
   "source": [
    "source_folder = \"../data/train_new/\"\n",
    "destination_folder_train = '../data/train_model/'\n",
    "destination_folder_valid = '../data/valid_model/'\n",
    "\n",
    "i = 0\n",
    "# fetch all files\n",
    "for file_name in os.listdir(source_folder):\n",
    "    # construct full file path  \n",
    "    if i < ((len(os.listdir(source_folder)))*0.8):\n",
    "      source_train = source_folder + file_name\n",
    "      destination_train = destination_folder_train + file_name\n",
    "      # copy only files\n",
    "      if os.path.isfile(source_train):\n",
    "        shutil.copy(source_train, destination_train)\n",
    "    else:\n",
    "      source_valid = source_folder + file_name\n",
    "      destination_valid = destination_folder_valid + file_name\n",
    "        # copy only files\n",
    "      if os.path.isfile(source_valid):\n",
    "            shutil.copy(source_valid, destination_valid)\n",
    "    i+=1"
   ]
  },
  {
   "cell_type": "code",
   "execution_count": 17,
   "id": "decbb4a5",
   "metadata": {},
   "outputs": [
    {
     "data": {
      "text/plain": [
       "(798, 199)"
      ]
     },
     "execution_count": 17,
     "metadata": {},
     "output_type": "execute_result"
    }
   ],
   "source": [
    "len(os.listdir('../data/train_model')),len(os.listdir('../data/valid_model'))"
   ]
  },
  {
   "cell_type": "code",
   "execution_count": null,
   "id": "11d7cc92",
   "metadata": {},
   "outputs": [],
   "source": []
  }
 ],
 "metadata": {
  "interpreter": {
   "hash": "8db758ad8c7bf89e0e05ff83b05117f8f69a41b0c4c743ef06d8074f849b7b0c"
  },
  "kernelspec": {
   "display_name": "Python 3.9.12 ('week4')",
   "language": "python",
   "name": "python3"
  },
  "language_info": {
   "codemirror_mode": {
    "name": "ipython",
    "version": 3
   },
   "file_extension": ".py",
   "mimetype": "text/x-python",
   "name": "python",
   "nbconvert_exporter": "python",
   "pygments_lexer": "ipython3",
   "version": "3.9.12"
  }
 },
 "nbformat": 4,
 "nbformat_minor": 5
}
