{
 "cells": [
  {
   "cell_type": "code",
   "execution_count": 1,
   "id": "eebe1ea9-4553-4c6a-9d00-462c5fd9c231",
   "metadata": {},
   "outputs": [],
   "source": [
    "# Importing libraries\n",
    "\n",
    "import pandas as pd\n",
    "import os\n",
    "import shutil\n",
    "import sys"
   ]
  },
  {
   "cell_type": "code",
   "execution_count": 2,
   "id": "2a51c2a0",
   "metadata": {},
   "outputs": [],
   "source": [
    "# loading scripts\n",
    "sys.path.insert(1, '../scripts')\n",
    "sys.path.append(\"..\")\n",
    "sys.path.append(\".\")\n",
    "\n",
    "from data_cleaning import DataCleaner\n",
    "from deep_learning_m import Separating\n",
    "\n",
    "DC = DataCleaner(\"../logs/preprocessing_notebook.log\")"
   ]
  },
  {
   "cell_type": "code",
   "execution_count": 3,
   "id": "8e72ca17",
   "metadata": {},
   "outputs": [],
   "source": [
    "# Copying the data by using 80% train and the rest valid\n",
    "\n",
    "source_folder = \"../data/train_new/\"\n",
    "destination_folder_train = '../data/train_model/'\n",
    "destination_folder_valid = '../data/valid_model/'\n",
    "\n",
    "Separating.train_valid(source_folder,destination_folder_train,destination_folder_valid)"
   ]
  },
  {
   "cell_type": "code",
   "execution_count": 5,
   "id": "decbb4a5",
   "metadata": {},
   "outputs": [
    {
     "data": {
      "text/plain": [
       "(798, 199)"
      ]
     },
     "execution_count": 5,
     "metadata": {},
     "output_type": "execute_result"
    }
   ],
   "source": [
    "# Cross checking to see if the data are devided as needed\n",
    "\n",
    "len(os.listdir('../data/train_model')),len(os.listdir('../data/valid_model'))"
   ]
  },
  {
   "cell_type": "code",
   "execution_count": 13,
   "id": "bb34613f",
   "metadata": {},
   "outputs": [],
   "source": [
    "# Creating a json file\n",
    "\n",
    "data = pd.read_csv('../data/meta_data.csv')"
   ]
  },
  {
   "cell_type": "code",
   "execution_count": 14,
   "id": "9fc0efbb",
   "metadata": {},
   "outputs": [
    {
     "data": {
      "text/plain": [
       "Index(['Unnamed: 0', 'Target', 'Feature', 'Output', 'Duration', 'n_channel'], dtype='object')"
      ]
     },
     "execution_count": 14,
     "metadata": {},
     "output_type": "execute_result"
    }
   ],
   "source": [
    "data.columns"
   ]
  },
  {
   "cell_type": "code",
   "execution_count": 16,
   "id": "deafecc3",
   "metadata": {},
   "outputs": [
    {
     "data": {
      "text/html": [
       "<div>\n",
       "<style scoped>\n",
       "    .dataframe tbody tr th:only-of-type {\n",
       "        vertical-align: middle;\n",
       "    }\n",
       "\n",
       "    .dataframe tbody tr th {\n",
       "        vertical-align: top;\n",
       "    }\n",
       "\n",
       "    .dataframe thead th {\n",
       "        text-align: right;\n",
       "    }\n",
       "</style>\n",
       "<table border=\"1\" class=\"dataframe\">\n",
       "  <thead>\n",
       "    <tr style=\"text-align: right;\">\n",
       "      <th></th>\n",
       "      <th>Target</th>\n",
       "      <th>Feature</th>\n",
       "      <th>Output</th>\n",
       "      <th>Duration</th>\n",
       "      <th>n_channel</th>\n",
       "    </tr>\n",
       "  </thead>\n",
       "  <tbody>\n",
       "    <tr>\n",
       "      <th>0</th>\n",
       "      <td>ያንደኛ ደረጃ ትምህርታቸው ን ጐንደር ተ ም ረዋል</td>\n",
       "      <td>../data/train/wav/tr_1_tr01001.wav</td>\n",
       "      <td>../data/train_new/tr_1_tr01001.wav</td>\n",
       "      <td>400.0</td>\n",
       "      <td>400</td>\n",
       "    </tr>\n",
       "    <tr>\n",
       "      <th>1</th>\n",
       "      <td>የተ ለቀቁት ምርኮኞች በ አካባቢያቸው ሰላማዊ ኑሮ እንዲ ኖሩ የ ትራንስፖ...</td>\n",
       "      <td>../data/train/wav/tr_2_tr01002.wav</td>\n",
       "      <td>../data/train_new/tr_2_tr01002.wav</td>\n",
       "      <td>400.0</td>\n",
       "      <td>400</td>\n",
       "    </tr>\n",
       "    <tr>\n",
       "      <th>2</th>\n",
       "      <td>በ አዲስ አበባው ስታዲየም በ ተካሄዱ ት ሁለት ግጥሚያ ዎች በ መጀመሪያ ...</td>\n",
       "      <td>../data/train/wav/tr_3_tr01003.wav</td>\n",
       "      <td>../data/train_new/tr_3_tr01003.wav</td>\n",
       "      <td>400.0</td>\n",
       "      <td>400</td>\n",
       "    </tr>\n",
       "    <tr>\n",
       "      <th>3</th>\n",
       "      <td>ወሬው ን ወሬ ያደረጉ ምስጢረ ኞች ናቸው</td>\n",
       "      <td>../data/train/wav/tr_4_tr01004.wav</td>\n",
       "      <td>../data/train_new/tr_4_tr01004.wav</td>\n",
       "      <td>400.0</td>\n",
       "      <td>400</td>\n",
       "    </tr>\n",
       "    <tr>\n",
       "      <th>4</th>\n",
       "      <td>ኢትዮጵያዊ ቷ በ ብሄራዊ ባህላዊ አለባበስ ከ አለም አንደኝነት ን ተቀዳጀ ች</td>\n",
       "      <td>../data/train/wav/tr_5_tr01005.wav</td>\n",
       "      <td>../data/train_new/tr_5_tr01005.wav</td>\n",
       "      <td>400.0</td>\n",
       "      <td>400</td>\n",
       "    </tr>\n",
       "  </tbody>\n",
       "</table>\n",
       "</div>"
      ],
      "text/plain": [
       "                                              Target  \\\n",
       "0                    ያንደኛ ደረጃ ትምህርታቸው ን ጐንደር ተ ም ረዋል   \n",
       "1  የተ ለቀቁት ምርኮኞች በ አካባቢያቸው ሰላማዊ ኑሮ እንዲ ኖሩ የ ትራንስፖ...   \n",
       "2  በ አዲስ አበባው ስታዲየም በ ተካሄዱ ት ሁለት ግጥሚያ ዎች በ መጀመሪያ ...   \n",
       "3                          ወሬው ን ወሬ ያደረጉ ምስጢረ ኞች ናቸው   \n",
       "4   ኢትዮጵያዊ ቷ በ ብሄራዊ ባህላዊ አለባበስ ከ አለም አንደኝነት ን ተቀዳጀ ች   \n",
       "\n",
       "                              Feature                              Output  \\\n",
       "0  ../data/train/wav/tr_1_tr01001.wav  ../data/train_new/tr_1_tr01001.wav   \n",
       "1  ../data/train/wav/tr_2_tr01002.wav  ../data/train_new/tr_2_tr01002.wav   \n",
       "2  ../data/train/wav/tr_3_tr01003.wav  ../data/train_new/tr_3_tr01003.wav   \n",
       "3  ../data/train/wav/tr_4_tr01004.wav  ../data/train_new/tr_4_tr01004.wav   \n",
       "4  ../data/train/wav/tr_5_tr01005.wav  ../data/train_new/tr_5_tr01005.wav   \n",
       "\n",
       "   Duration  n_channel  \n",
       "0     400.0        400  \n",
       "1     400.0        400  \n",
       "2     400.0        400  \n",
       "3     400.0        400  \n",
       "4     400.0        400  "
      ]
     },
     "execution_count": 16,
     "metadata": {},
     "output_type": "execute_result"
    }
   ],
   "source": [
    "data.drop('Unnamed: 0',inplace=True,axis=1)\n",
    "data.head()"
   ]
  },
  {
   "cell_type": "code",
   "execution_count": null,
   "metadata": {},
   "outputs": [],
   "source": []
  }
 ],
 "metadata": {
  "interpreter": {
   "hash": "8db758ad8c7bf89e0e05ff83b05117f8f69a41b0c4c743ef06d8074f849b7b0c"
  },
  "kernelspec": {
   "display_name": "Python 3.9.12 ('week4')",
   "language": "python",
   "name": "python3"
  },
  "language_info": {
   "codemirror_mode": {
    "name": "ipython",
    "version": 3
   },
   "file_extension": ".py",
   "mimetype": "text/x-python",
   "name": "python",
   "nbconvert_exporter": "python",
   "pygments_lexer": "ipython3",
   "version": "3.9.12"
  }
 },
 "nbformat": 4,
 "nbformat_minor": 5
}
