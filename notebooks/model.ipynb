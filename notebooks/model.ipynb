{
 "cells": [
  {
   "cell_type": "markdown",
   "metadata": {},
   "source": [
    "## Modelling and Deployment using MLOps"
   ]
  },
  {
   "cell_type": "code",
   "execution_count": 7,
   "metadata": {},
   "outputs": [],
   "source": [
    "import pandas as pd\n",
    "import numpy as np\n",
    "import sys\n",
    "import tensorflow as tf\n",
    "from tensorflow import keras\n",
    "from tensorflow.keras import layers\n",
    "import matplotlib.pyplot as plt\n",
    "from IPython import display\n",
    "from jiwer import wer"
   ]
  },
  {
   "cell_type": "code",
   "execution_count": 8,
   "metadata": {},
   "outputs": [],
   "source": [
    "# loading scripts\n",
    "sys.path.insert(1, '../scripts')\n",
    "sys.path.append(\"..\")\n",
    "sys.path.append(\".\")\n",
    "\n",
    "from data_cleaning import DataCleaner\n",
    "\n",
    "DC = DataCleaner(\"../logs/modelling_notebook.log\")"
   ]
  },
  {
   "cell_type": "code",
   "execution_count": 9,
   "metadata": {},
   "outputs": [
    {
     "data": {
      "text/html": [
       "<div>\n",
       "<style scoped>\n",
       "    .dataframe tbody tr th:only-of-type {\n",
       "        vertical-align: middle;\n",
       "    }\n",
       "\n",
       "    .dataframe tbody tr th {\n",
       "        vertical-align: top;\n",
       "    }\n",
       "\n",
       "    .dataframe thead th {\n",
       "        text-align: right;\n",
       "    }\n",
       "</style>\n",
       "<table border=\"1\" class=\"dataframe\">\n",
       "  <thead>\n",
       "    <tr style=\"text-align: right;\">\n",
       "      <th></th>\n",
       "      <th>Target</th>\n",
       "      <th>Feature</th>\n",
       "      <th>Output</th>\n",
       "      <th>Duration</th>\n",
       "      <th>n_channel</th>\n",
       "    </tr>\n",
       "  </thead>\n",
       "  <tbody>\n",
       "    <tr>\n",
       "      <th>0</th>\n",
       "      <td>የኤርትራ ወታደሮች ኢትዮጵያውያኑ ን ቀር ባ እንዳ ታይ ና እንዳታ ነጋገር...</td>\n",
       "      <td>../data/train/wav/tr_1025_tr11026.wav</td>\n",
       "      <td>../data/train_new/tr_1025_tr11026.wav</td>\n",
       "      <td>18.956916</td>\n",
       "      <td>2</td>\n",
       "    </tr>\n",
       "    <tr>\n",
       "      <th>1</th>\n",
       "      <td>ዘመናዊ ውን የ አምሪ ካን ሂ ዎት ሲ ቀጭ ከርሞ ጰጰሰ ይ ሉናል</td>\n",
       "      <td>../data/train/wav/tr_10603_tr04117.wav</td>\n",
       "      <td>../data/train_new/tr_10603_tr04117.wav</td>\n",
       "      <td>18.956916</td>\n",
       "      <td>2</td>\n",
       "    </tr>\n",
       "    <tr>\n",
       "      <th>2</th>\n",
       "      <td>ዛሬ የ በላ ነው ቀይ ወጥ ሁ ርጥ ያለች ና ት</td>\n",
       "      <td>../data/train/wav/tr_10520_tr53128.wav</td>\n",
       "      <td>../data/train_new/tr_10520_tr53128.wav</td>\n",
       "      <td>18.956916</td>\n",
       "      <td>2</td>\n",
       "    </tr>\n",
       "    <tr>\n",
       "      <th>3</th>\n",
       "      <td>ዘነበ ች ሰራተኛዋ ን አታ ን ጓጉ ብላ ተቆጣ ቻት</td>\n",
       "      <td>../data/train/wav/tr_10661_tr13126.wav</td>\n",
       "      <td>../data/train_new/tr_10661_tr13126.wav</td>\n",
       "      <td>18.956916</td>\n",
       "      <td>2</td>\n",
       "    </tr>\n",
       "    <tr>\n",
       "      <th>4</th>\n",
       "      <td>በጣም ስለሚ ወደው የ መኮንን ወንድም መኮንን ን መኳ ነው የሚለው</td>\n",
       "      <td>../data/train/wav/tr_10244_tr099086.wav</td>\n",
       "      <td>../data/train_new/tr_10244_tr099086.wav</td>\n",
       "      <td>18.956916</td>\n",
       "      <td>2</td>\n",
       "    </tr>\n",
       "  </tbody>\n",
       "</table>\n",
       "</div>"
      ],
      "text/plain": [
       "                                              Target  \\\n",
       "0  የኤርትራ ወታደሮች ኢትዮጵያውያኑ ን ቀር ባ እንዳ ታይ ና እንዳታ ነጋገር...   \n",
       "1           ዘመናዊ ውን የ አምሪ ካን ሂ ዎት ሲ ቀጭ ከርሞ ጰጰሰ ይ ሉናል   \n",
       "2                      ዛሬ የ በላ ነው ቀይ ወጥ ሁ ርጥ ያለች ና ት   \n",
       "3                    ዘነበ ች ሰራተኛዋ ን አታ ን ጓጉ ብላ ተቆጣ ቻት   \n",
       "4          በጣም ስለሚ ወደው የ መኮንን ወንድም መኮንን ን መኳ ነው የሚለው   \n",
       "\n",
       "                                   Feature  \\\n",
       "0    ../data/train/wav/tr_1025_tr11026.wav   \n",
       "1   ../data/train/wav/tr_10603_tr04117.wav   \n",
       "2   ../data/train/wav/tr_10520_tr53128.wav   \n",
       "3   ../data/train/wav/tr_10661_tr13126.wav   \n",
       "4  ../data/train/wav/tr_10244_tr099086.wav   \n",
       "\n",
       "                                    Output   Duration  n_channel  \n",
       "0    ../data/train_new/tr_1025_tr11026.wav  18.956916          2  \n",
       "1   ../data/train_new/tr_10603_tr04117.wav  18.956916          2  \n",
       "2   ../data/train_new/tr_10520_tr53128.wav  18.956916          2  \n",
       "3   ../data/train_new/tr_10661_tr13126.wav  18.956916          2  \n",
       "4  ../data/train_new/tr_10244_tr099086.wav  18.956916          2  "
      ]
     },
     "execution_count": 9,
     "metadata": {},
     "output_type": "execute_result"
    }
   ],
   "source": [
    "# Read metadata file\n",
    "train_meta = DC.meta_loader(\"../data/train_meta.json\", \"json\")\n",
    "train_meta.head()"
   ]
  }
 ],
 "metadata": {
  "interpreter": {
   "hash": "b302cdd1e032ee910f5c889c3360c28564c92ad4f326fc3102e39fbe47faee66"
  },
  "kernelspec": {
   "display_name": "Python 3.9.7 ('base')",
   "language": "python",
   "name": "python3"
  },
  "language_info": {
   "codemirror_mode": {
    "name": "ipython",
    "version": 3
   },
   "file_extension": ".py",
   "mimetype": "text/x-python",
   "name": "python",
   "nbconvert_exporter": "python",
   "pygments_lexer": "ipython3",
   "version": "3.9.7"
  },
  "orig_nbformat": 4
 },
 "nbformat": 4,
 "nbformat_minor": 2
}
